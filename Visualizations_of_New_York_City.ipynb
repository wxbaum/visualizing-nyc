{
  "cells": [
    {
      "cell_type": "markdown",
      "metadata": {
        "id": "0oRfrVXc66Sr"
      },
      "source": [
        "# Visualizations of New York City\n",
        "\n",
        "This notebook contains code for data pulls and visualizations using three datasets from NYC Open Data.\n",
        "\n",
        "### 1) Building Footprints\n",
        "This dataset contains polygon data for the footprints of most of the buildings in NYC. We'll conduct an analysis into building age, and into building sizes.\n",
        "\n",
        "### 2) WiFi Hotspots\n",
        "Using City of NYC owned wifi hotspots, we'll create a heatmap of wifi coverage for the city.\n",
        "\n",
        "### 3) Squirrel Census\n",
        "A fun and novel dataset of squirrel observations in Central Park. We'll analyze where in the park \"loud\" squirrels were most often observed."
      ]
    },
    {
      "cell_type": "markdown",
      "metadata": {
        "id": "eMVAPT0PFC-g"
      },
      "source": [
        "# Setup"
      ]
    },
    {
      "cell_type": "code",
      "execution_count": 1,
      "metadata": {
        "id": "Lh1G4fDeFCu8"
      },
      "outputs": [],
      "source": [
        "from copy import deepcopy\n",
        "import folium\n",
        "import geopandas as gpd\n",
        "import matplotlib.pyplot as plt\n",
        "import numpy as np\n",
        "import pandas as pd\n",
        "import plotly.express as px\n",
        "import plotly.graph_objects as go\n",
        "import requests\n",
        "from scipy.stats import gaussian_kde\n",
        "import seaborn as sns\n",
        "from shapely.geometry import Point, shape, box, Polygon\n",
        "\n",
        "pd.options.mode.chained_assignment = None"
      ]
    },
    {
      "cell_type": "markdown",
      "metadata": {
        "id": "JC6VPyrvNB5C"
      },
      "source": [
        "# Building Footprints"
      ]
    },
    {
      "cell_type": "code",
      "execution_count": 2,
      "metadata": {
        "id": "w_wvFntzdO7_",
        "colab": {
          "base_uri": "https://localhost:8080/"
        },
        "outputId": "607769f5-69d5-4730-dbbf-27871d044fd7"
      },
      "outputs": [
        {
          "output_type": "stream",
          "name": "stderr",
          "text": [
            "<ipython-input-2-531adf474c8e>:30: UserWarning: Geometry is in a geographic CRS. Results from 'centroid' are likely incorrect. Use 'GeoSeries.to_crs()' to re-project geometries to a projected CRS before this operation.\n",
            "\n",
            "  gdf['centroid'] = gdf['geometry'].centroid.to_crs(epsg=3395).centroid.to_crs(epsg=4326)\n"
          ]
        }
      ],
      "source": [
        "# Pull data\n",
        "api_endpoint = 'https://data.cityofnewyork.us/resource/qb5r-6dgf.json'\n",
        "limit = 1000  # Number of rows per request\n",
        "offset = 0   # Starting offset\n",
        "data_frames = []  # List to hold chunks of data\n",
        "\n",
        "# Loop to fetch data iteratively\n",
        "# while offset <= 100000: # uncomment this and comment while True to fetch a\n",
        "#   sample much faster\n",
        "while True: # while True will take a long time but gets all the data\n",
        "    url = f\"{api_endpoint}?$limit={limit}&$offset={offset}\"\n",
        "    chunk = pd.read_json(url)\n",
        "    if chunk.empty:\n",
        "        break  # Stop the loop when no more data is returned\n",
        "    data_frames.append(chunk)\n",
        "    offset += limit\n",
        "\n",
        "# Concatenate all chunks into a single DataFrame\n",
        "data = pd.concat(data_frames, ignore_index=True)\n",
        "\n",
        "# Convert the 'the_geom' column from a dictionary to a Shapely geometry object\n",
        "data['geometry'] = data['the_geom'].apply(lambda x: shape(x))\n",
        "\n",
        "# Convert the Pandas DataFrame to a GeoDataFrame\n",
        "# Create a raw dataframe which we won't make any edits on and we can copy as\n",
        "#   needed\n",
        "gdf = gpd.GeoDataFrame(data, geometry='geometry', crs=\"EPSG:4326\")\n",
        "\n",
        "# Convert 'MultiPolygon' to representative points for visualization\n",
        "gdf['centroid'] = gdf['geometry'].centroid.to_crs(epsg=3395).centroid.to_crs(epsg=4326)\n",
        "\n",
        "# Get rid of columns we don't need anymore\n",
        "keep_cols = ['cnstrct_yr', 'heightroof', 'geometry', 'centroid']\n",
        "gdf = gdf[keep_cols]"
      ]
    },
    {
      "cell_type": "markdown",
      "metadata": {
        "id": "NtKBNmvb4AN5"
      },
      "source": [
        "## Building Age and Density of Prewars"
      ]
    },
    {
      "cell_type": "code",
      "execution_count": 29,
      "metadata": {
        "id": "soiivbVw0Hxk"
      },
      "outputs": [],
      "source": [
        "# Create the bounding box from the provided corner points\n",
        "bounding_box = box(-74.0294, 40.685, -73.91695, 40.742)\n",
        "\n",
        "# Create copy of gdf for this analysis\n",
        "gdf_building_age = deepcopy(gdf)\n",
        "\n",
        "# Filter the GeoDataFrame using the bounding polygon\n",
        "gdf_building_age[gdf_building_age['centroid'].within(bounding_box)]\n",
        "\n",
        "# Create a new column for building decade\n",
        "gdf_building_age['decade'] = (gdf_building_age['cnstrct_yr'] // 10) * 10\n",
        "\n",
        "# Remove rows where 'cnstrct_yr' is NaN\n",
        "gdf_building_age = gdf_building_age[gdf_building_age['cnstrct_yr'].notna()]\n",
        "\n",
        "# Get unique decades\n",
        "unique_decades = sorted(gdf_building_age['decade'].unique())\n",
        "\n",
        "# Use the Cividis colorscale and split it for our unique decades\n",
        "colorscale = px.colors.sequential.Cividis\n",
        "num_decades = len(unique_decades)\n",
        "colors = [colorscale[i * len(colorscale) // num_decades] for i in range(num_decades)]\n",
        "color_map = dict(zip(unique_decades, colors))\n",
        "\n",
        "# Filter the data for buildings built in the 1930s and earlier\n",
        "old_buildings = gdf_building_age[gdf_building_age['decade'] <= 1930]\n",
        "\n",
        "# Create a new figure for better control\n",
        "fig = go.Figure()\n",
        "\n",
        "# Add the traces for each decade\n",
        "for decade, color in color_map.items():\n",
        "    subset = gdf_building_age[gdf_building_age['decade'] == decade]\n",
        "    # Add the original trace with showlegend set to False\n",
        "    fig.add_trace(go.Scattermapbox(\n",
        "        lat=subset['centroid'].y,\n",
        "        lon=subset['centroid'].x,\n",
        "        mode='markers',\n",
        "        marker=go.scattermapbox.Marker(\n",
        "            size=3,\n",
        "            color=color,\n",
        "            opacity=0.8\n",
        "        ),\n",
        "        text=decade,\n",
        "        name=str(int(decade)),\n",
        "        hoverinfo='none',\n",
        "        showlegend=False\n",
        "    ))\n",
        "    # Add a dummy trace with larger markers for the legend\n",
        "    #   placed outside the visible map\n",
        "    fig.add_trace(go.Scattermapbox(\n",
        "        lat=[90],  # Latitude outside the visible map\n",
        "        lon=[0],   # Longitude outside the visible map\n",
        "        mode='markers',\n",
        "        marker=go.scattermapbox.Marker(\n",
        "            size=10,\n",
        "            color=color,\n",
        "            opacity=1\n",
        "        ),\n",
        "        legendgroup=str(int(decade)),\n",
        "        showlegend=True,\n",
        "        name=str(int(decade)),\n",
        "        hoverinfo='none'\n",
        "    ))\n",
        "\n",
        "# Add heatmap for older buildings\n",
        "fig.add_trace(go.Densitymapbox(\n",
        "    lat=old_buildings['centroid'].y,\n",
        "    lon=old_buildings['centroid'].x,\n",
        "    radius=4,\n",
        "    colorscale=\"Greens\",\n",
        "    opacity=1,\n",
        "    name=\"Density of Prewar Buildings\",\n",
        "    showlegend=True,\n",
        "    zmax=3,\n",
        "    zmin=0,\n",
        "    showscale=False\n",
        "))\n",
        "\n",
        "\n",
        "fig.update_layout(\n",
        "    title='Buildings by Decade with Density Underlay for Prewar Buildings',\n",
        "    autosize=True,\n",
        "    mapbox=dict(\n",
        "        accesstoken=None,\n",
        "        bearing=0,\n",
        "        center=dict(lat=40.71359, lon=-73.97216),\n",
        "        pitch=0,\n",
        "        zoom=12.6,\n",
        "        style='carto-positron'\n",
        "    ),\n",
        "    height=800,\n",
        "    width=1200,\n",
        "    legend=dict(tracegroupgap=0)\n",
        ")\n",
        "\n",
        "# Display the map\n",
        "fig.show()"
      ]
    },
    {
      "cell_type": "markdown",
      "metadata": {
        "id": "4KsyCn6Y-5bt"
      },
      "source": [
        "## Average Building Size by Borough"
      ]
    },
    {
      "cell_type": "code",
      "execution_count": 25,
      "metadata": {
        "id": "AbObOg2X4RQc",
        "colab": {
          "base_uri": "https://localhost:8080/",
          "height": 906
        },
        "outputId": "f727e894-3968-48eb-e126-c2d7dc53194b"
      },
      "outputs": [
        {
          "output_type": "stream",
          "name": "stderr",
          "text": [
            "<ipython-input-25-ebbfe0d62571>:29: UserWarning:\n",
            "\n",
            "Geometry is in a geographic CRS. Results from 'area' are likely incorrect. Use 'GeoSeries.to_crs()' to re-project geometries to a projected CRS before this operation.\n",
            "\n",
            "\n"
          ]
        },
        {
          "output_type": "display_data",
          "data": {
            "text/html": [
              "<html>\n",
              "<head><meta charset=\"utf-8\" /></head>\n",
              "<body>\n",
              "    <div>            <script src=\"https://cdnjs.cloudflare.com/ajax/libs/mathjax/2.7.5/MathJax.js?config=TeX-AMS-MML_SVG\"></script><script type=\"text/javascript\">if (window.MathJax && window.MathJax.Hub && window.MathJax.Hub.Config) {window.MathJax.Hub.Config({SVG: {font: \"STIX-Web\"}});}</script>                <script type=\"text/javascript\">window.PlotlyConfig = {MathJaxConfig: 'local'};</script>\n",
              "        <script charset=\"utf-8\" src=\"https://cdn.plot.ly/plotly-2.24.1.min.js\"></script>                <div id=\"c5a652e3-08c6-4f72-845d-9a0850926478\" class=\"plotly-graph-div\" style=\"height:800px; width:1200px;\"></div>            <script type=\"text/javascript\">                                    window.PLOTLYENV=window.PLOTLYENV || {};                                    if (document.getElementById(\"c5a652e3-08c6-4f72-845d-9a0850926478\")) {                    Plotly.newPlot(                        \"c5a652e3-08c6-4f72-845d-9a0850926478\",                        [{\"colorscale\":[[0,\"dodgerblue\"],[1,\"dodgerblue\"]],\"opacity\":0.5,\"showscale\":false,\"x\":[[0,0,0.6,0.6,0],[0,0,0.6,0.6,0]],\"y\":[[0,0.4,0.4,0,0],[0,0.4,0.4,0,0]],\"z\":[[0,0,0,0,0],[2.780153736423826e-07,2.780153736423826e-07,2.780153736423826e-07,2.780153736423826e-07,2.780153736423826e-07]],\"type\":\"surface\"},{\"colorscale\":[[0,\"dodgerblue\"],[1,\"dodgerblue\"]],\"opacity\":0.5,\"showscale\":false,\"x\":[[1,1,1.6,1.6,1],[1,1,1.6,1.6,1]],\"y\":[[0,0.4,0.4,0,0],[0,0.4,0.4,0,0]],\"z\":[[0,0,0,0,0],[2.6368276374775397e-07,2.6368276374775397e-07,2.6368276374775397e-07,2.6368276374775397e-07,2.6368276374775397e-07]],\"type\":\"surface\"},{\"colorscale\":[[0,\"dodgerblue\"],[1,\"dodgerblue\"]],\"opacity\":0.5,\"showscale\":false,\"x\":[[2,2,2.6,2.6,2],[2,2,2.6,2.6,2]],\"y\":[[0,0.4,0.4,0,0],[0,0.4,0.4,0,0]],\"z\":[[0,0,0,0,0],[6.106810635508575e-07,6.106810635508575e-07,6.106810635508575e-07,6.106810635508575e-07,6.106810635508575e-07]],\"type\":\"surface\"},{\"colorscale\":[[0,\"dodgerblue\"],[1,\"dodgerblue\"]],\"opacity\":0.5,\"showscale\":false,\"x\":[[3,3,3.6,3.6,3],[3,3,3.6,3.6,3]],\"y\":[[0,0.4,0.4,0,0],[0,0.4,0.4,0,0]],\"z\":[[0,0,0,0,0],[2.1953928167753973e-07,2.1953928167753973e-07,2.1953928167753973e-07,2.1953928167753973e-07,2.1953928167753973e-07]],\"type\":\"surface\"},{\"colorscale\":[[0,\"dodgerblue\"],[1,\"dodgerblue\"]],\"opacity\":0.5,\"showscale\":false,\"x\":[[4,4,4.6,4.6,4],[4,4,4.6,4.6,4]],\"y\":[[0,0.4,0.4,0,0],[0,0.4,0.4,0,0]],\"z\":[[0,0,0,0,0],[2.4543739026692694e-07,2.4543739026692694e-07,2.4543739026692694e-07,2.4543739026692694e-07,2.4543739026692694e-07]],\"type\":\"surface\"}],                        {\"template\":{\"data\":{\"histogram2dcontour\":[{\"type\":\"histogram2dcontour\",\"colorbar\":{\"outlinewidth\":0,\"ticks\":\"\"},\"colorscale\":[[0.0,\"#0d0887\"],[0.1111111111111111,\"#46039f\"],[0.2222222222222222,\"#7201a8\"],[0.3333333333333333,\"#9c179e\"],[0.4444444444444444,\"#bd3786\"],[0.5555555555555556,\"#d8576b\"],[0.6666666666666666,\"#ed7953\"],[0.7777777777777778,\"#fb9f3a\"],[0.8888888888888888,\"#fdca26\"],[1.0,\"#f0f921\"]]}],\"choropleth\":[{\"type\":\"choropleth\",\"colorbar\":{\"outlinewidth\":0,\"ticks\":\"\"}}],\"histogram2d\":[{\"type\":\"histogram2d\",\"colorbar\":{\"outlinewidth\":0,\"ticks\":\"\"},\"colorscale\":[[0.0,\"#0d0887\"],[0.1111111111111111,\"#46039f\"],[0.2222222222222222,\"#7201a8\"],[0.3333333333333333,\"#9c179e\"],[0.4444444444444444,\"#bd3786\"],[0.5555555555555556,\"#d8576b\"],[0.6666666666666666,\"#ed7953\"],[0.7777777777777778,\"#fb9f3a\"],[0.8888888888888888,\"#fdca26\"],[1.0,\"#f0f921\"]]}],\"heatmap\":[{\"type\":\"heatmap\",\"colorbar\":{\"outlinewidth\":0,\"ticks\":\"\"},\"colorscale\":[[0.0,\"#0d0887\"],[0.1111111111111111,\"#46039f\"],[0.2222222222222222,\"#7201a8\"],[0.3333333333333333,\"#9c179e\"],[0.4444444444444444,\"#bd3786\"],[0.5555555555555556,\"#d8576b\"],[0.6666666666666666,\"#ed7953\"],[0.7777777777777778,\"#fb9f3a\"],[0.8888888888888888,\"#fdca26\"],[1.0,\"#f0f921\"]]}],\"heatmapgl\":[{\"type\":\"heatmapgl\",\"colorbar\":{\"outlinewidth\":0,\"ticks\":\"\"},\"colorscale\":[[0.0,\"#0d0887\"],[0.1111111111111111,\"#46039f\"],[0.2222222222222222,\"#7201a8\"],[0.3333333333333333,\"#9c179e\"],[0.4444444444444444,\"#bd3786\"],[0.5555555555555556,\"#d8576b\"],[0.6666666666666666,\"#ed7953\"],[0.7777777777777778,\"#fb9f3a\"],[0.8888888888888888,\"#fdca26\"],[1.0,\"#f0f921\"]]}],\"contourcarpet\":[{\"type\":\"contourcarpet\",\"colorbar\":{\"outlinewidth\":0,\"ticks\":\"\"}}],\"contour\":[{\"type\":\"contour\",\"colorbar\":{\"outlinewidth\":0,\"ticks\":\"\"},\"colorscale\":[[0.0,\"#0d0887\"],[0.1111111111111111,\"#46039f\"],[0.2222222222222222,\"#7201a8\"],[0.3333333333333333,\"#9c179e\"],[0.4444444444444444,\"#bd3786\"],[0.5555555555555556,\"#d8576b\"],[0.6666666666666666,\"#ed7953\"],[0.7777777777777778,\"#fb9f3a\"],[0.8888888888888888,\"#fdca26\"],[1.0,\"#f0f921\"]]}],\"surface\":[{\"type\":\"surface\",\"colorbar\":{\"outlinewidth\":0,\"ticks\":\"\"},\"colorscale\":[[0.0,\"#0d0887\"],[0.1111111111111111,\"#46039f\"],[0.2222222222222222,\"#7201a8\"],[0.3333333333333333,\"#9c179e\"],[0.4444444444444444,\"#bd3786\"],[0.5555555555555556,\"#d8576b\"],[0.6666666666666666,\"#ed7953\"],[0.7777777777777778,\"#fb9f3a\"],[0.8888888888888888,\"#fdca26\"],[1.0,\"#f0f921\"]]}],\"mesh3d\":[{\"type\":\"mesh3d\",\"colorbar\":{\"outlinewidth\":0,\"ticks\":\"\"}}],\"scatter\":[{\"fillpattern\":{\"fillmode\":\"overlay\",\"size\":10,\"solidity\":0.2},\"type\":\"scatter\"}],\"parcoords\":[{\"type\":\"parcoords\",\"line\":{\"colorbar\":{\"outlinewidth\":0,\"ticks\":\"\"}}}],\"scatterpolargl\":[{\"type\":\"scatterpolargl\",\"marker\":{\"colorbar\":{\"outlinewidth\":0,\"ticks\":\"\"}}}],\"bar\":[{\"error_x\":{\"color\":\"#2a3f5f\"},\"error_y\":{\"color\":\"#2a3f5f\"},\"marker\":{\"line\":{\"color\":\"#E5ECF6\",\"width\":0.5},\"pattern\":{\"fillmode\":\"overlay\",\"size\":10,\"solidity\":0.2}},\"type\":\"bar\"}],\"scattergeo\":[{\"type\":\"scattergeo\",\"marker\":{\"colorbar\":{\"outlinewidth\":0,\"ticks\":\"\"}}}],\"scatterpolar\":[{\"type\":\"scatterpolar\",\"marker\":{\"colorbar\":{\"outlinewidth\":0,\"ticks\":\"\"}}}],\"histogram\":[{\"marker\":{\"pattern\":{\"fillmode\":\"overlay\",\"size\":10,\"solidity\":0.2}},\"type\":\"histogram\"}],\"scattergl\":[{\"type\":\"scattergl\",\"marker\":{\"colorbar\":{\"outlinewidth\":0,\"ticks\":\"\"}}}],\"scatter3d\":[{\"type\":\"scatter3d\",\"line\":{\"colorbar\":{\"outlinewidth\":0,\"ticks\":\"\"}},\"marker\":{\"colorbar\":{\"outlinewidth\":0,\"ticks\":\"\"}}}],\"scattermapbox\":[{\"type\":\"scattermapbox\",\"marker\":{\"colorbar\":{\"outlinewidth\":0,\"ticks\":\"\"}}}],\"scatterternary\":[{\"type\":\"scatterternary\",\"marker\":{\"colorbar\":{\"outlinewidth\":0,\"ticks\":\"\"}}}],\"scattercarpet\":[{\"type\":\"scattercarpet\",\"marker\":{\"colorbar\":{\"outlinewidth\":0,\"ticks\":\"\"}}}],\"carpet\":[{\"aaxis\":{\"endlinecolor\":\"#2a3f5f\",\"gridcolor\":\"white\",\"linecolor\":\"white\",\"minorgridcolor\":\"white\",\"startlinecolor\":\"#2a3f5f\"},\"baxis\":{\"endlinecolor\":\"#2a3f5f\",\"gridcolor\":\"white\",\"linecolor\":\"white\",\"minorgridcolor\":\"white\",\"startlinecolor\":\"#2a3f5f\"},\"type\":\"carpet\"}],\"table\":[{\"cells\":{\"fill\":{\"color\":\"#EBF0F8\"},\"line\":{\"color\":\"white\"}},\"header\":{\"fill\":{\"color\":\"#C8D4E3\"},\"line\":{\"color\":\"white\"}},\"type\":\"table\"}],\"barpolar\":[{\"marker\":{\"line\":{\"color\":\"#E5ECF6\",\"width\":0.5},\"pattern\":{\"fillmode\":\"overlay\",\"size\":10,\"solidity\":0.2}},\"type\":\"barpolar\"}],\"pie\":[{\"automargin\":true,\"type\":\"pie\"}]},\"layout\":{\"autotypenumbers\":\"strict\",\"colorway\":[\"#636efa\",\"#EF553B\",\"#00cc96\",\"#ab63fa\",\"#FFA15A\",\"#19d3f3\",\"#FF6692\",\"#B6E880\",\"#FF97FF\",\"#FECB52\"],\"font\":{\"color\":\"#2a3f5f\"},\"hovermode\":\"closest\",\"hoverlabel\":{\"align\":\"left\"},\"paper_bgcolor\":\"white\",\"plot_bgcolor\":\"#E5ECF6\",\"polar\":{\"bgcolor\":\"#E5ECF6\",\"angularaxis\":{\"gridcolor\":\"white\",\"linecolor\":\"white\",\"ticks\":\"\"},\"radialaxis\":{\"gridcolor\":\"white\",\"linecolor\":\"white\",\"ticks\":\"\"}},\"ternary\":{\"bgcolor\":\"#E5ECF6\",\"aaxis\":{\"gridcolor\":\"white\",\"linecolor\":\"white\",\"ticks\":\"\"},\"baxis\":{\"gridcolor\":\"white\",\"linecolor\":\"white\",\"ticks\":\"\"},\"caxis\":{\"gridcolor\":\"white\",\"linecolor\":\"white\",\"ticks\":\"\"}},\"coloraxis\":{\"colorbar\":{\"outlinewidth\":0,\"ticks\":\"\"}},\"colorscale\":{\"sequential\":[[0.0,\"#0d0887\"],[0.1111111111111111,\"#46039f\"],[0.2222222222222222,\"#7201a8\"],[0.3333333333333333,\"#9c179e\"],[0.4444444444444444,\"#bd3786\"],[0.5555555555555556,\"#d8576b\"],[0.6666666666666666,\"#ed7953\"],[0.7777777777777778,\"#fb9f3a\"],[0.8888888888888888,\"#fdca26\"],[1.0,\"#f0f921\"]],\"sequentialminus\":[[0.0,\"#0d0887\"],[0.1111111111111111,\"#46039f\"],[0.2222222222222222,\"#7201a8\"],[0.3333333333333333,\"#9c179e\"],[0.4444444444444444,\"#bd3786\"],[0.5555555555555556,\"#d8576b\"],[0.6666666666666666,\"#ed7953\"],[0.7777777777777778,\"#fb9f3a\"],[0.8888888888888888,\"#fdca26\"],[1.0,\"#f0f921\"]],\"diverging\":[[0,\"#8e0152\"],[0.1,\"#c51b7d\"],[0.2,\"#de77ae\"],[0.3,\"#f1b6da\"],[0.4,\"#fde0ef\"],[0.5,\"#f7f7f7\"],[0.6,\"#e6f5d0\"],[0.7,\"#b8e186\"],[0.8,\"#7fbc41\"],[0.9,\"#4d9221\"],[1,\"#276419\"]]},\"xaxis\":{\"gridcolor\":\"white\",\"linecolor\":\"white\",\"ticks\":\"\",\"title\":{\"standoff\":15},\"zerolinecolor\":\"white\",\"automargin\":true,\"zerolinewidth\":2},\"yaxis\":{\"gridcolor\":\"white\",\"linecolor\":\"white\",\"ticks\":\"\",\"title\":{\"standoff\":15},\"zerolinecolor\":\"white\",\"automargin\":true,\"zerolinewidth\":2},\"scene\":{\"xaxis\":{\"backgroundcolor\":\"#E5ECF6\",\"gridcolor\":\"white\",\"linecolor\":\"white\",\"showbackground\":true,\"ticks\":\"\",\"zerolinecolor\":\"white\",\"gridwidth\":2},\"yaxis\":{\"backgroundcolor\":\"#E5ECF6\",\"gridcolor\":\"white\",\"linecolor\":\"white\",\"showbackground\":true,\"ticks\":\"\",\"zerolinecolor\":\"white\",\"gridwidth\":2},\"zaxis\":{\"backgroundcolor\":\"#E5ECF6\",\"gridcolor\":\"white\",\"linecolor\":\"white\",\"showbackground\":true,\"ticks\":\"\",\"zerolinecolor\":\"white\",\"gridwidth\":2}},\"shapedefaults\":{\"line\":{\"color\":\"#2a3f5f\"}},\"annotationdefaults\":{\"arrowcolor\":\"#2a3f5f\",\"arrowhead\":0,\"arrowwidth\":1},\"geo\":{\"bgcolor\":\"white\",\"landcolor\":\"#E5ECF6\",\"subunitcolor\":\"white\",\"showland\":true,\"showlakes\":true,\"lakecolor\":\"white\"},\"title\":{\"x\":0.05},\"mapbox\":{\"style\":\"light\"}}},\"scene\":{\"xaxis\":{\"title\":{\"text\":\"Borough\"},\"tickvals\":[0,1,2,3,4],\"ticktext\":[\"Bronx\",\"Brooklyn\",\"Manhattan\",\"Queens\",\"Staten Island\"]},\"yaxis\":{\"title\":{\"text\":\"\"},\"visible\":false},\"aspectratio\":{\"x\":3.5,\"y\":2,\"z\":1.5},\"zaxis\":{\"title\":{\"text\":\"Average Building Volume (m^3)\"}}},\"margin\":{\"t\":40,\"b\":40,\"l\":60,\"r\":60},\"title\":{\"text\":\"Median Building Volume by Borough\"},\"height\":800,\"width\":1200},                        {\"responsive\": true}                    ).then(function(){\n",
              "                            \n",
              "var gd = document.getElementById('c5a652e3-08c6-4f72-845d-9a0850926478');\n",
              "var x = new MutationObserver(function (mutations, observer) {{\n",
              "        var display = window.getComputedStyle(gd).display;\n",
              "        if (!display || display === 'none') {{\n",
              "            console.log([gd, 'removed!']);\n",
              "            Plotly.purge(gd);\n",
              "            observer.disconnect();\n",
              "        }}\n",
              "}});\n",
              "\n",
              "// Listen for the removal of the full notebook cells\n",
              "var notebookContainer = gd.closest('#notebook-container');\n",
              "if (notebookContainer) {{\n",
              "    x.observe(notebookContainer, {childList: true});\n",
              "}}\n",
              "\n",
              "// Listen for the clearing of the current output cell\n",
              "var outputEl = gd.closest('.output');\n",
              "if (outputEl) {{\n",
              "    x.observe(outputEl, {childList: true});\n",
              "}}\n",
              "\n",
              "                        })                };                            </script>        </div>\n",
              "</body>\n",
              "</html>"
            ]
          },
          "metadata": {}
        }
      ],
      "source": [
        "# ...following from data pull code block\n",
        "\n",
        "# Define borough bounding boxes\n",
        "# These are very loose bounds and a more thorough analysis should use a higher\n",
        "#   precision polygon.\n",
        "boroughs = {\n",
        "    \"Manhattan\": box(-74.02, 40.70, -73.91, 40.88),\n",
        "    \"Bronx\": box(-73.93, 40.80, -73.79, 40.92),\n",
        "    \"Brooklyn\": box(-74.05, 40.57, -73.85, 40.74),\n",
        "    \"Queens\": box(-73.94, 40.54, -73.70, 40.80),\n",
        "    \"Staten Island\": box(-74.26, 40.50, -74.03, 40.65)\n",
        "}\n",
        "\n",
        "# Create a function that assigns a borough to each building based on its\n",
        "#   centroid\n",
        "def assign_borough(centroid):\n",
        "    for borough, bbox in boroughs.items():\n",
        "        if bbox.contains(centroid):\n",
        "            return borough\n",
        "    return None\n",
        "\n",
        "# Create copy of gdf for this analysis\n",
        "gdf_building_size = deepcopy(gdf)\n",
        "\n",
        "# Place each building into a borough\n",
        "gdf_building_size['borough'] = gdf_building_size['centroid'].apply(assign_borough)\n",
        "\n",
        "# Calculate building volume using footprint area and height\n",
        "gdf_building_size['volume'] = gdf_building_size['geometry'].area * gdf_building_size['heightroof']\n",
        "\n",
        "# Compute average volume by borough\n",
        "avg_volume_by_borough = gdf_building_size.groupby('borough')['volume'].median()\n",
        "\n",
        "# Create 3D bar shapes using surface plots\n",
        "def create_3d_bar(x, y, z, dx, dy, dz):\n",
        "    # Define vertices of the bar\n",
        "    x_data = [[x, x, x+dx, x+dx, x], [x, x, x+dx, x+dx, x]]\n",
        "    y_data = [[y, y+dy, y+dy, y, y], [y, y+dy, y+dy, y, y]]\n",
        "    z_data = [[z, z, z, z, z], [z+dz, z+dz, z+dz, z+dz, z+dz]]\n",
        "    return go.Surface(\n",
        "        x=x_data,\n",
        "        y=y_data,\n",
        "        z=z_data,\n",
        "        colorscale=[[0, 'dodgerblue'], [1, 'dodgerblue']],\n",
        "        showscale=False,\n",
        "        opacity=0.5\n",
        "    )\n",
        "\n",
        "# Define bar dimensions\n",
        "dx = 0.6\n",
        "dy = 0.4\n",
        "\n",
        "# Create figure\n",
        "fig = go.Figure()\n",
        "\n",
        "# Add bars to the figure\n",
        "for i, borough in enumerate(avg_volume_by_borough.index):\n",
        "    fig.add_trace(create_3d_bar(i, 0, 0, dx, dy, avg_volume_by_borough[borough]))\n",
        "\n",
        "# Define the layout with adjusted aspect ratio for wider chart area\n",
        "fig.update_layout(\n",
        "    title='Median Building Volume by Borough',\n",
        "    scene=dict(\n",
        "        xaxis=dict(\n",
        "            title='Borough',\n",
        "            tickvals=list(range(len(avg_volume_by_borough))),\n",
        "            ticktext=avg_volume_by_borough.index\n",
        "        ),\n",
        "        yaxis=dict(title='', visible=False),\n",
        "        zaxis=dict(title='Average Building Volume (m^3)'),\n",
        "        aspectratio=dict(x=3.5, y=2, z=1.5)  # Adjusting the aspect ratio for wider x-axis\n",
        "    ),\n",
        "    margin=dict(t=40, b=40, l=60, r=60),\n",
        "    height=800,\n",
        "    width=1200\n",
        ")\n",
        "\n",
        "fig.show()"
      ]
    },
    {
      "cell_type": "code",
      "execution_count": null,
      "metadata": {
        "id": "P4mDOHQLpk7e"
      },
      "outputs": [],
      "source": [
        "# ...following from 3D bar visual of building volume\n",
        "\n",
        "# Set figure size\n",
        "plt.figure(figsize=(12, 8))\n",
        "\n",
        "# Create the boxenplot\n",
        "sns.boxenplot(\n",
        "    data=gdf_building_size,\n",
        "    y='borough',\n",
        "    x='volume',\n",
        "    k_depth='trustworthy',\n",
        "    order=['Manhattan', 'Bronx', 'Brooklyn', 'Staten Island', 'Queens']\n",
        ")\n",
        "\n",
        "# Adjust the x-axis to use a log scale\n",
        "plt.xscale('log')\n",
        "\n",
        "# Set title and axis labels\n",
        "plt.title('Building Size Distribution by Volume')\n",
        "plt.xlabel('Building Volume (log m^3)')\n",
        "plt.ylabel('Borough')\n",
        "\n",
        "plt.show()"
      ]
    },
    {
      "cell_type": "markdown",
      "metadata": {
        "id": "DwVloilt69y9"
      },
      "source": [
        "## WiFi Hotspots"
      ]
    },
    {
      "cell_type": "code",
      "execution_count": 26,
      "metadata": {
        "colab": {
          "base_uri": "https://localhost:8080/",
          "height": 817
        },
        "id": "Tqa2VH0S65F2",
        "outputId": "8987890b-ff0d-431b-9b45-518f7bad60c7"
      },
      "outputs": [
        {
          "output_type": "display_data",
          "data": {
            "text/html": [
              "<html>\n",
              "<head><meta charset=\"utf-8\" /></head>\n",
              "<body>\n",
              "    <div>            <script src=\"https://cdnjs.cloudflare.com/ajax/libs/mathjax/2.7.5/MathJax.js?config=TeX-AMS-MML_SVG\"></script><script type=\"text/javascript\">if (window.MathJax && window.MathJax.Hub && window.MathJax.Hub.Config) {window.MathJax.Hub.Config({SVG: {font: \"STIX-Web\"}});}</script>                <script type=\"text/javascript\">window.PlotlyConfig = {MathJaxConfig: 'local'};</script>\n",
              "        <script charset=\"utf-8\" src=\"https://cdn.plot.ly/plotly-2.24.1.min.js\"></script>                <div id=\"9705fbab-893c-4e10-876e-9c2249f09a80\" class=\"plotly-graph-div\" style=\"height:800px; width:1200px;\"></div>            <script type=\"text/javascript\">                                    window.PLOTLYENV=window.PLOTLYENV || {};                                    if (document.getElementById(\"9705fbab-893c-4e10-876e-9c2249f09a80\")) {                    Plotly.newPlot(                        \"9705fbab-893c-4e10-876e-9c2249f09a80\",                        [{\"coloraxis\":\"coloraxis\",\"hovertemplate\":\"latitude=%{lat}\\u003cbr\\u003elongitude=%{lon}\\u003cextra\\u003e\\u003c\\u002fextra\\u003e\",\"lat\":[40.6748599999,40.7475599996,40.7119259997,40.6899850001,40.7646300002,40.7424300003,40.812944,40.6873790941,40.6956020001,40.6783340002,40.8406639999,40.6903899996,40.81026,40.6879008003,40.6836250004,40.5909830002,40.6848100477,40.7536406401,40.7025399998,40.7312190398,40.728824,40.7356259996,40.739528,40.7602353199,40.7651194601,40.7302489998,40.7516323603,40.73933161,40.6780789998,40.7015990998,40.67705,40.7629999999,40.6510267597,40.7365398796,40.7709460001,40.6752551911,40.7615592304,40.6838205904,40.8648700001,40.7415361403,40.7978261899,40.8229240001,40.7033079996,40.7800194697,40.74387741,40.8048000002,40.7476272599,40.7442600298,40.7666381202,40.818752,40.7612533724,40.8275800002,40.6908829998,40.6927230002,40.6751409996,40.7604737301,40.8037209997,40.8670379998,40.7944615402,40.7577338402,40.7062418498,40.7427595303,40.7302576896,40.6932189996,40.8050129997,40.8161882102,40.7186019996,40.8626436497,40.7795609103,40.7131669699,40.7990749998,40.8205899999,40.77464584,40.7468675402,40.8629806052,40.695295,40.7872468703,40.7458632901,40.9004399098,40.7431927759,40.6807317996,40.75529,40.7565208602,40.7906900002,40.7483832896,40.7059714299,40.7414809996,40.8241309998,40.7931808696,40.6950769996,40.7554999999,40.8139300002,40.7176582282,40.675377,40.7423220602,40.5726749996,40.8784449997,40.5735509999,40.7443204903,40.6840608397,40.8026839999,40.8270435498,40.6808618482,40.8241309998,40.7470624208,40.7412880001,40.7656654522,40.7410399998,40.81841,40.8037859998,40.8342453801,40.7661480002,40.6874572699,40.8620857697,40.808719,40.736214,40.7382777799,40.8290024803,40.7316749998,40.687191,40.69934194,40.7029999997,40.7441540003,40.7887050997,40.7234019998,40.6611970004,40.765785254,40.811544,40.7154881544,40.7147999999,40.7754432796,40.7541399203,40.5975849999,40.6936359997,40.7541882302,40.8229035714,40.8111090001,40.702147,40.6621889998,40.5786309996,40.7329605004,40.7320389999,40.7636860602,40.7678548897,40.729869,40.7623284104,40.8548777848,40.5926531297,40.74533995,40.7066070001,40.7922967001,40.7200789997,40.6893339998,40.7586493104,40.8075940004,40.6947255403,40.8222148602,40.7199070697,40.7643380004,40.8278309999,40.6437820001,40.7936690002,40.7847119996,40.7603599798,40.7858176901,40.7039097998,40.739154,40.7673067797,40.7451423403,40.73598356,40.681596,40.6559,40.8416259997,40.7630995,40.8506830002,40.75993686,40.7660599997,40.7763660499,40.7431000004,40.8513290003,40.7742662798,40.7906000001,40.6870730002,40.6797519303,40.6682166933,40.8120370003,40.7449331704,40.5733840001,40.8303356351,40.79237863,40.7522869999,40.6772216502,40.7009264299,40.7341620004,40.6813152498,40.6969889996,40.7419939997,40.7288380002,40.8029842296,40.7549509796,40.7047004998,40.7651601902,40.7351870003,40.7494585504,40.7362005797,40.7512243202,40.76826158,40.7537182203,40.8126809996,40.7649346184,40.7930999996,40.6419629997,40.6861130002,40.7102499999,40.7472234296,40.6782680804,40.6955779998,40.7476720001,40.7402745363,40.6599636231,40.7393355798,40.7157269003,40.6921780001,40.780782,40.75868871,40.8088430001,40.8035109996,40.6624380004,40.7610889998,40.6778615496,40.7487578396,40.7526228501,40.7192149999,40.8141249998,40.7441275609,40.7775279996,40.7208240001,40.7407749998,40.7807159311,40.6583100001,40.7406115598,40.5768699999,40.8089964896,40.7433122897,40.8177319996,40.7500920801,40.7508327297,40.7430972996,40.7903007904,40.73391885,40.6901300004,40.6452617002,40.796138,40.7422871697,40.6894082198,40.6060290001,40.7963739998,40.7865194849,40.8164360002,40.7282989999,40.7064760002,40.7558349998,40.7585080601,40.7596,40.8297330597,40.6719869996,40.5524232628,40.7498274798,40.7408087817,40.6789599998,40.7484820003,40.8066299401,40.8223190004,40.8305860002,40.6906349998,40.7995280001,40.7378864504,40.7070006997,40.7043990997,40.8166922997,40.7541709998,40.7624669504,40.8606299996,40.7612673501,40.6487169711,40.7528849997,40.7144457399,40.6507820003,40.6878136202,40.7181977604,40.8077790003,40.7435549998,40.8206415647,40.6729689999,40.7381085104,40.7649329098,40.7831909998,40.7484970002,40.810178,40.7373350001,40.7518341599,40.8357344401,40.7977016599,40.6885499998,40.8056149998,40.8768270004,40.8075079996,40.7460455796,40.6180639999,40.5828240003,40.687191,40.6727480001,40.6417853679,40.74671976,40.8397090001,40.8059709999,40.811544,40.6507380002,40.7395470004,40.7528042196,40.6782855904,40.6950879997,40.8631000001,40.8577559996,40.639278,40.7695360002,40.5961969996,40.6665385801,40.8529172596,40.8524117299,40.7989539998,40.8298089998,40.7465540001,40.7622461604,40.7490896695,40.7606459996,40.8183710003,40.5733810002,40.6557102014,40.8256959997,40.76191296,40.6896330001,40.5798387882,40.7666493204,40.74349317,40.7144564597,40.7832887698,40.7330342416,40.6297420001,40.8121859998,40.8445900004,40.6902299998,40.716849745,40.6960269997,40.7681409996,40.8498544901,40.5723130001,40.7479662301,40.6641759998,40.7300540003,40.7183309998,40.805827,40.7600949999,40.7091789996,40.7786068298,40.80918643,40.7418457098,40.5728504701,40.7715263503,40.7499999997,40.7343925094,40.6515900001,40.6998949497,40.5813039997,40.7557510001,40.7540920002,40.6937210001,40.8170569901,40.59815,40.729564,40.7927028702,40.7953990002,40.6607317999,40.7497190002,40.7417107404,40.811544,40.8574218942,40.7509655202,40.6884600004,40.8337730002,40.8121265904,40.7435997402,40.7210259999,40.7514057799,40.8416000001,40.7318629998,40.645912124,40.7464647798,40.6788179999,40.6901699999,40.7557765502,40.7698161856,40.6828289997,40.802979882,40.8511646002,40.7422986209,40.7036540004,40.6574300004,40.7630796436,40.8296624199,40.8277990001,40.8537639997,40.7705449998,40.6684865101,40.7243290001,40.7622099,40.7325187897,40.7228539996,40.6509619998,40.6608710001,40.74950281,40.7139829999,40.7862227298,40.7575519997,40.7447420003,40.6863709996,40.8105319999,40.7786051397,40.7950050001,40.8402480002,40.6861450003,40.797148,40.72048554,40.6830100001,40.7569439897,40.7824098201,40.7454177202,40.8240811002,40.7385704602,40.7409619997,40.7366389404,40.8148204092,40.8543469054,40.8440019118,40.8210679998,40.5778779999,40.80104973,40.8464767598,40.7524759996,40.6921799997,40.8747789997,40.73121,40.7488420001,40.7784529998,40.6951320003,40.7089220198,40.6829320003,40.7188030002,40.7444067774,40.639231,40.6940105,40.7375969997,40.8543584601,40.6893190003,40.8159360002,40.8077559301,40.7606442899,40.6724129997,40.680687107,40.7575456796,40.7041016002,40.7714420004,40.7178049696,40.80439875,40.8145386902,40.7442780003,40.7344915302,40.7391660401,40.758993,40.76399635,40.8665882698,40.7640969998,40.5726640003,40.7736199998,40.7610940003,40.7533698704,40.7819839998,40.580467,40.7157119998,40.7102499999,40.6896269998,40.7178279998,40.8021260003,40.8219179997,40.7604726697,40.7639780797,40.8814770003,40.7057680002,40.79802733,40.8380580001,40.687191,40.7209834901,40.6943819998,40.6509000002,40.78944465,40.8322830002,40.5181669997,40.7216909996,40.7086982997,40.7415149301,40.6938589996,40.7205980001,40.6798153564,40.8466060004,40.7629208804,40.8115962129,40.8011370003,40.7916440001,40.8124409104,40.7367556104,40.8314669998,40.729564,40.8158030001,40.8062866423,40.6781400002,40.6927500003,40.7866538399,40.745985978,40.7573080004,40.57341,40.7395310003,40.7514970004,40.8887829999,40.7779250003,40.7886439998,40.8222678302,40.5899077101,40.8263779996,40.7704587102,40.7185134904,40.6900723003,40.6453170004,40.8023498802,40.7772270002,40.7544875499,40.7262270004,40.5683660003,40.6007321052,40.8179261897,40.7646530003,40.6959021997,40.8360130001,40.8445900004,40.6920869997,40.7432028403,40.7280269996,40.7730060002,40.755636,40.6735340004,40.7104700003,40.8765409997,40.7576655798,40.7179195799,40.6572129998,40.7935244003,40.8028699996,40.56585176,40.8407189999,40.7460004698,40.5733379999,40.6918900002,40.7420940004,40.7634240001,40.7349230004,40.7514981299,40.5781699999,40.7278500002,40.7557510001,40.8166920002,40.7454939996,40.7101969998,40.8110419997,40.670847,40.651925081,40.7316019796,40.8274409997,40.6270889996,40.8377000004,40.6824829165,40.7439893758,40.7070998997,40.7781408199,40.8133669998,40.7926955504,40.6927399998,40.8192928954,40.6703177604,40.6450979999,40.7563263302,40.6893339998,40.7923936203,40.84425807,40.8467710003,40.693069,40.7724771003,40.7606599902,40.5846690003,40.749982341,40.7633851196,40.8131283198,40.5894883102,40.8037732698,40.7430267303,40.7768170122,40.7367890002,40.7046091101,40.8186759997,40.6625879999,40.8495049997,40.8560929997,40.8910850654,40.7684058604,40.8220079997,40.729564,40.6783340001,40.8273559302,40.7697493901,40.6917379998,40.8113622604,40.6830769204,40.8126809996,40.7397769996,40.7015421937,40.7034524852,40.6917379998,40.7642541403,40.8628554803,40.7809927904,40.7624168698,40.7552899997,40.7166819999,40.7392531703,40.8050129997,40.6952050001,40.7611419703,40.7737269996,40.6783539998,40.693069,40.7110789001,40.8475737003,40.74559121,40.8705019246,40.7394860202,40.7760098403,40.7439503403,40.8159977098,40.7485394098,40.8153469997,40.6912339801,40.7132430002,40.8003002501,40.7997210004,40.8762000003,40.86732884,40.7560184099,40.6783399999,40.7714420004,40.6173000001,40.7742814704,40.5803519997,40.7426889998,40.7918983496,40.7487979504,40.725666,40.6920869997,40.7316749998,40.7602069301,40.5749150004,40.7957737998,40.7428779998,40.5732530004,40.7263038204,40.7030983001,40.8145630004,40.6321347751,40.6795059998,40.7486727301,40.8102551998,40.6737519997,40.7122676599,40.7050441799,40.6701470003,40.663381,40.7413232202,40.7420808202,40.8554160802,40.7080993998,40.7030869999,40.6945549998,40.7539103902,40.6903640003,40.7033729996,40.6931659997,40.713644888,40.655745777,40.8460519999,40.7914009998,40.7648109998,40.7426996698,40.8502319998,40.7273165603,40.625382,40.8345130003,40.7489729996,40.6899200001,40.8143100004,40.6263800004,40.7525448197,40.8126109997,40.8393059996,40.7645131699,40.7931613601,40.7482700004,40.5781099996,40.834515209,40.7559829997,40.6831796304,40.7885314443,40.692417,40.7600051899,40.6095774994,40.7973030002,40.5788020001,40.7588309703,40.7249248899,40.7130798796,40.8049579997,40.688764,40.6560999997,40.8369719996,40.8111979996,40.7504884299,40.8411199996,40.6945400001,40.7481389399,40.7199600001,40.7465112997,40.6940950002,40.6747769261,40.6448850001,40.7557352682,40.8483300003,40.5721002603,40.8173806385,40.8502079999,40.7986462699,40.8059230004,40.6918600003,40.8201217,40.7201019996,40.6727060872,40.6693989998,40.689906,40.6726791001,40.7527760003,40.8156958896,40.6966519998,40.6574519997,40.8372410002,40.6963312717,40.7474512003,40.7413733801,40.7264712603,40.76298745,40.7720050003,40.7479040004,40.8048349996,40.7070998998,40.7676549998,40.7068209998,40.7986290002,40.6738010002,40.7402139997,40.7379697602,40.8194884499,40.6846250902,40.6952479996,40.8602146696,40.7493411197,40.7070105556,40.7407724603,40.7427700859,40.7540678756,40.7202799998,40.7936690002,40.8263762897,40.8220221947,40.8464720003,40.7987167499,40.7414800003,40.7421021446,40.7163550002,40.575748,40.7487327964,40.816104,40.8464340002,40.7624306402,40.7557352682,40.7771371701,40.6799210004,40.7172123501,40.8157995997,40.7072199999,40.8001415301,40.7423779996,40.8092681002,40.8133660003,40.7591689999,40.7550431903,40.6701150004,40.692404,40.6800589999,40.7587770701,40.8280570004,40.7723828899,40.6818530001,40.6973439997,40.8766430003,40.694137,40.6769941203,40.6724129997,40.7047004998,40.5783799996,40.7449836101,40.6129900004,40.7770000003,40.7606860001,40.8126809996,40.785005,40.7281329999,40.5750829999,40.6745555102,40.6651593697,40.7311570103,40.6177499998,40.7550150197,40.7470499996,40.8389890001,40.7815029999,40.7552001994,40.8225187913,40.7404654556,40.7186109996,40.7502370001,40.7599709996,40.5845510002,40.7974669996,40.7394321803,40.6697799996,40.7015999996,40.687191,40.5983967327,40.7571737696,40.8266092254,40.8748110001,40.7408361702,40.7051009996,40.6635500702,40.7397623797,40.79933067,40.685389756,40.86366546,40.7440649999,40.753149,40.8007811996,40.8128710001,40.7959509996,40.7949113799,40.7109881099,40.7338407502,40.69071,40.6853080003,40.7444030004,40.7669397902,40.8146900002,40.7256410001,40.6908829998,40.7568787502,40.8070920004,40.706822167,40.7646461904,40.7586329403,40.7038952802,40.8006900003,40.7561741504,40.7841280003,40.6388851668,40.7252969996,40.6423390003,40.7250035503,40.637585616,40.5726200002,40.6706820004,40.7512738599,40.8528573648,40.7176640001,40.7136065153,40.8407059999,40.6641664798,40.8273049399,40.7383023997,40.8360810002,40.8073775198,40.7618160001,40.7822850901,40.7765734296,40.8050129997,40.7303940002,40.5734659897,40.7527689999,40.6997544704,40.6725829999,40.8121627203,40.7116663597,40.7078731318,40.7639310004,40.7045590639,40.8134339997,40.7433844603,40.8290371297,40.7946725903,40.6182370002,40.6764090003,40.5726690002,40.77237316,40.6868889999,40.76842289,40.664453793,40.8004460001,40.7152266304,40.5740619998,40.8193941504,40.7421389997,40.7361409996,40.7493007304,40.7616041202,40.7892631802,40.7501699996,40.741900312,40.7544929897,40.8055840001,40.8256047402,40.773657,40.798102,40.6885699998,40.7424329998,40.8049591501,40.6892299996,40.7482700004,40.6920229997,40.8072958097,40.7695056596,40.73030035,40.7407371396,40.7825399701,40.7081985002,40.71921,40.74004081,40.8481589997,40.5647890002,40.8141028299,40.7030410003,40.7667662903,40.8647299997,40.6943000001,40.824255,40.7712289998,40.6807900002,40.6608419997,40.6532640727,40.6753708519,40.7310149996,40.75027937,40.8201024948,40.6734299998,40.7426309099,40.7439759997,40.7200789997,40.5719318484,40.6927199996,40.7438912097,40.8250896001,40.8090218697,40.7029779998,40.7948956597,40.7450998102,40.6769760001,40.7042998996,40.8038612301,40.7803212402],\"lon\":[-73.7841200005,-73.8181499997,-73.9406699994,-73.9919950004,-73.9661150001,-73.8115100003,-73.9416929996,-73.966030666,-73.9040840004,-73.9053160001,-73.8983720002,-74.0199599995,-73.9395100003,-73.9931469103,-73.9770060002,-74.1007320003,-73.915132416,-73.9184016594,-73.9238159997,-73.9828270001,-73.9846799999,-73.9853220002,-73.9824889997,-73.9840119597,-73.9576938298,-73.9863479994,-73.9706571702,-73.8781299298,-73.9083739999,-74.0093001995,-73.9723670001,-73.9132590006,-73.9465128704,-73.9971555402,-73.9594960004,-74.0103512916,-73.9683905603,-73.8713797301,-73.8927999994,-73.9813326198,-73.9677477303,-73.9417229998,-73.9240869998,-73.9813959896,-73.9269261104,-73.9443,-73.9850371596,-73.9993978695,-73.9830918204,-73.82456,-73.9501658898,-73.9492880002,-73.9896349995,-73.9830250002,-73.9562809996,-73.9760991397,-73.967381,-73.8965369996,-73.9715730901,-73.9754336596,-74.0062435098,-73.9864199897,-74.0066285504,-73.9899979996,-73.9449089999,-73.9099166103,-73.8381840006,-73.9032440399,-73.9599541,-73.8298089703,-73.9518220006,-73.9596899999,-73.9823998204,-73.9745200604,-73.8945028865,-73.9801031998,-73.9776456494,-73.9802332999,-73.867942,-74.0073877576,-73.9774460905,-73.9874950005,-73.9252146106,-73.9744619998,-73.9763442995,-73.7937866001,-73.9831980002,-73.9424640006,-73.9726485797,-73.8228169995,-73.9914250005,-73.9449549995,-73.9603011562,-73.8721059998,-73.9853807405,-73.9856179998,-73.8754800001,-73.9773659998,-73.9534837102,-73.8705374096,-73.9451580005,-73.9502261503,-73.8464887284,-73.9424640006,-73.9442436779,-73.9046559997,-73.9574087323,-73.9978709994,-73.9267179996,-73.9461589995,-73.9411590502,-73.9797210006,-73.9819201796,-73.8995205706,-73.9076570006,-73.9848999999,-74.0056712102,-73.9372792304,-73.8656070003,-73.7695589996,-73.9921867902,-74.0167999996,-73.9761899997,-73.97641054,-73.989938,-73.9652520003,-73.9191729969,-73.9141379999,-74.0162138359,-74.0028000002,-73.9823668697,-73.99233961,-74.0011120005,-73.9883469996,-73.9293986402,-73.8190936365,-73.9523430005,-73.8011089995,-73.9960170003,-74.0768009998,-73.9861729396,-73.9879380003,-73.9150512395,-73.9622546401,-73.7738410001,-73.9936423401,-73.8641435801,-73.9886820957,-73.9827682499,-73.9229129996,-73.94398813,-73.9495109998,-73.9819749997,-73.9751429701,-73.939065,-73.9942270995,-73.9422346805,-73.9940664903,-73.9847670002,-73.9226770005,-74.1022450006,-73.9368160005,-73.9795639995,-73.9616631402,-73.9490312697,-74.0090824103,-73.7377180002,-73.92211147,-73.9825063298,-73.9979901195,-73.9770380003,-73.9028500002,-73.8929609999,-73.9279352805,-73.9328699994,-73.9879722901,-73.9635540005,-73.9559307399,-73.9883000001,-73.9082660006,-73.9809497094,-73.9474780003,-73.8531530003,-73.9391010097,-73.9834274329,-73.946231,-73.9914723702,-73.9789369997,-73.943755973,-73.96800953,-73.9933909997,-73.8974635303,-73.8262048802,-73.8736580003,-73.9562012602,-73.9974860003,-73.9612560003,-73.8837509996,-73.9678553303,-73.9838986798,-74.0089035,-73.93142777,-73.9898710002,-73.8864554498,-73.9936010197,-73.9905922004,-73.9890433705,-73.9322156401,-73.9393569996,-73.9912208178,-73.9354000003,-74.1020260005,-73.9739459997,-73.9979799999,-73.888492,-73.9497984494,-73.9839699996,-73.9769650002,-74.0019750591,-73.7399110132,-73.9952642404,-74.0071850598,-73.9883039999,-73.9524000005,-73.9655889096,-73.9504950003,-73.9529419999,-73.9506050003,-73.9233410004,-73.9043006705,-74.0069037095,-73.9732538494,-73.9898500002,-73.9469930003,-74.0050435071,-73.9551530001,-74.005229,-73.9815760003,-73.958721175,-73.9440599999,-73.9790788503,-73.9445900006,-73.9521491403,-73.9224012404,-73.8236799998,-73.9877917293,-73.9768167294,-73.9928116002,-73.9729813495,-73.9868814305,-74.0193399996,-73.9581440801,-73.970931,-73.9533364696,-73.9887286998,-73.9284660004,-73.9685420003,-73.9777652896,-73.8382920001,-73.8580760006,-74.0110559999,-73.881778,-73.9689633006,-73.8300300003,-73.9442004197,-73.9643750004,-74.1511116431,-73.99552538,-73.9216691603,-73.9244239997,-73.9960119997,-73.9502560898,-73.9536760001,-73.9471950001,-73.9818239995,-73.943527,-73.9966041004,-74.0035019003,-74.0101012997,-73.9167190694,-73.9918709995,-73.9723575596,-73.9023689997,-73.9606200397,-73.9767572777,-73.9060059998,-73.9459483206,-73.9757760002,-73.9812839303,-74.0000479997,-73.9452530004,-73.9241560003,-73.9046288601,-74.0069149999,-73.9961531298,-73.9843334296,-73.9802530004,-73.9498550004,-73.9489240003,-73.9967859996,-73.9705930597,-73.9139604204,-73.9692439318,-74.0181199997,-73.9505569995,-73.8787249995,-73.9644880005,-73.8901212898,-74.1081859996,-73.8175779995,-73.7695589996,-73.9626939995,-74.0766457652,-73.9859357197,-73.8874640004,-73.9405659999,-73.9141379999,-73.9684290006,-73.7359200005,-74.0043127105,-73.9121847599,-73.9876710001,-73.9065000005,-73.9010909997,-74.0320909998,-73.8059679998,-73.7462619996,-73.9883783202,-73.9308273902,-73.93133833,-73.9683259995,-73.9482010003,-73.9438320005,-73.9862930105,-73.8718174082,-73.9844199996,-73.952755,-73.9788719999,-73.9149383856,-73.9273109998,-73.9109386203,-73.9831650003,-74.1000124032,-73.9793497005,-73.9859719702,-73.9885372705,-73.9505618001,-73.8098798843,-74.0255099998,-73.9479549997,-73.8598,-74.0146499995,-73.9608407636,-73.9884560003,-73.9638700004,-73.9334733103,-74.0860130002,-73.9734053,-73.9903530005,-73.9910699998,-73.8373240005,-73.9504070006,-73.9212160003,-73.8205739999,-73.9821781901,-73.9485913301,-73.9196896404,-74.1075388295,-73.9531379105,-73.8050600003,-73.9991515911,-73.9321869996,-73.8310976698,-74.1120102804,-73.9451659997,-73.9721800002,-73.9833279997,-73.9460124099,-74.0011350002,-74.0054619998,-73.9714873104,-73.9692539998,-73.9507266396,-73.9878229999,-73.9779728296,-73.9141379999,-73.9093163503,-73.9741480605,-74.0225500005,-73.9184379998,-73.9205525,-74.0035878803,-73.8779350001,-73.9741424698,-73.9071000004,-73.9977779999,-74.0136300012,-73.98371405,-73.9495790005,-74.0144399999,-73.9236268395,-73.9819292623,-73.9052490006,-73.9535307443,-73.9322489595,-74.0007090572,-73.9426819995,-73.9471600002,-73.9626851397,-73.9484220401,-73.9285650002,-73.9078989995,-73.9602539997,-73.9336508496,-73.9977020004,-73.9818807495,-73.9846943705,-74.0062770002,-73.9478340004,-73.9973869996,-73.9771946004,-73.8308380002,-73.9779934695,-73.969055,-73.9853669995,-73.9785409997,-73.9436709996,-73.9537154496,-73.9698099995,-73.9181940004,-73.9908620001,-73.9696300005,-73.98908323,-73.7848199995,-73.9640703796,-73.9789998702,-73.9469370802,-73.9375077506,-73.9999324099,-73.9018859995,-73.9932824699,-73.941197673,-73.8878894289,-73.9100871445,-73.8262099995,-73.8357879999,-73.9649389104,-73.8963931604,-73.9701160001,-73.9859419996,-73.8650050004,-73.7740839999,-74.0067042995,-73.9819700004,-73.8208410002,-73.9433896499,-73.9639590003,-74.0001930005,-73.9831323066,-74.0319329997,-73.9867065005,-73.9838899999,-73.9299203504,-73.9871619999,-73.9429710003,-73.9190061102,-73.9671011703,-74.004303,-73.887239509,-73.7843029637,-74.0092009996,-73.9881089996,-74.0058149101,-73.9663281704,-73.9552802595,-73.930399,-73.9861615804,-73.9911985495,-73.9687269997,-73.9847193098,-73.8956537199,-73.9708230005,-73.9860389995,-73.959874,-73.9868280003,-73.91232033,-73.9811840001,-73.8262720005,-74.0051260005,-73.9979799999,-73.9535219995,-74.0009619996,-73.9674930004,-73.9533100001,-73.9220190799,-73.9826288296,-73.8979510005,-73.9430299995,-73.9676033202,-73.8934780004,-73.7695589996,-74.0064882805,-73.9746142004,-73.9682999997,-73.9738667995,-73.9423269996,-74.1897649997,-73.8445210005,-74.0130997003,-73.9939631,-73.9824761997,-73.8773369995,-73.9376270019,-73.8239519999,-73.9597150298,-73.9243663402,-73.9537779996,-73.964694,-73.9292502903,-73.9818615695,-73.9217469998,-74.0054619998,-73.9408120003,-73.9179551832,-73.7871099994,-74.0162,-73.9723114005,-73.9844921943,-73.9897349997,-73.9803439997,-73.9828890001,-73.9737649996,-73.8401329998,-73.9517529995,-73.9762179998,-73.9499055998,-74.10090436,-73.929249,-73.9662243504,-73.9572313094,-73.9823248003,-74.1022850003,-73.9569800899,-73.9827769996,-73.9116865998,-74.0037389996,-74.0906419996,-73.8200526582,-73.9152620201,-73.9640970001,-73.9873941004,-73.9398919995,-73.8598,-73.9825870003,-73.9892058198,-73.9879650002,-73.958069,-73.9476570003,-73.982789,-73.7936040004,-73.8784499998,-73.9858784195,-73.99494009,-73.9018079999,-73.9708867699,-73.9362700002,-74.1142242602,-73.9395609999,-73.9906943198,-74.0844060005,-73.9824880002,-73.9612649994,-73.9850609999,-73.8754599998,-73.9341573899,-73.9418199995,-73.8568480001,-73.9451659997,-73.9196370003,-73.9886910005,-74.0076910006,-73.9414040002,-73.9883019997,-73.9582421825,-73.9825479098,-73.9230079996,-74.0772919995,-73.9084800001,-73.9957534823,-74.003412724,-74.0036011004,-73.9525943999,-73.91962478,-73.9734376096,-74.0147700003,-73.9410178513,-73.9581718604,-73.9489589995,-73.9701433003,-73.9819749997,-73.9442301105,-73.9149608299,-73.9354559996,-73.9900889997,-73.9587668404,-73.9982028298,-73.8110510002,-73.981236067,-73.9928697102,-73.9089914094,-74.1012707105,-73.9362396996,-74.0040045397,-73.9094170178,-73.9844860004,-73.7968005602,-73.9281649995,-73.9922589998,-73.9335959996,-73.900741,-73.8595812441,-73.9892145197,-73.9536759997,-74.0054619998,-73.7834769997,-73.9252225202,-73.9667634197,-73.9881309998,-73.9501596701,-73.9646334495,-73.9393569996,-74.0025779999,-73.9421692826,-73.8003521769,-73.9881309998,-73.9711978403,-73.9045470099,-73.9815226701,-73.9631585106,-73.9456329999,-74.0022530004,-73.9797618304,-73.9449089999,-73.8455950001,-73.9830902797,-73.9579649994,-73.9110080002,-73.9900889997,-73.9437320696,-73.9007664401,-73.9799973994,-73.8286579311,-74.0062665941,-73.9819629397,-73.9796546501,-73.90824221,-73.9882184599,-73.9475760001,-73.98638427,-74.0034010005,-73.9678328695,-73.9449320005,-73.8787489994,-73.8971929304,-73.9674671596,-73.9119459996,-73.9881089996,-74.1062999997,-73.9634601501,-73.8266210003,-74.0002380003,-73.9445961998,-73.87355043,-74.0062742597,-73.9825870003,-73.8656070003,-73.9671770504,-73.9778670001,-73.9707518998,-73.9928209998,-73.9801429996,-73.9861043296,-74.0106963996,-73.9400299999,-73.9467806744,-73.9554309998,-73.9733263796,-73.9219232296,-73.9348919995,-73.9556103901,-74.0073218795,-73.9503969996,-73.9760829994,-73.9853854705,-73.9932612895,-73.9294025404,-74.0119018998,-74.012994,-73.9816791995,-73.9000940603,-73.9844349999,-73.7839240004,-73.8536780001,-73.9479357128,-74.0065489228,-73.8249499994,-73.9738220005,-73.9733470005,-73.9967998396,-73.8217770005,-73.864502826,-74.1145699996,-73.9443289998,-73.9372430005,-73.9464699996,-73.9302170006,-74.0157900004,-73.9795852,-73.9454579999,-73.9133999997,-73.9771946802,-73.9708938601,-74.0020679997,-73.94273,-73.9396745829,-73.9862289995,-73.9954176204,-73.8107165591,-73.987117,-73.9675675095,-74.1485024503,-73.9403369995,-74.1016690004,-73.9887795405,-74.0057953595,-73.9512847414,-73.9413740003,-73.9040460002,-73.9025000003,-73.8937700003,-73.943866,-73.9911302495,-73.9054799995,-73.9794162005,-73.9881009003,-73.9814780002,-73.9840991095,-73.8213339996,-73.8092618174,-74.1010380003,-73.944584432,-73.9099000005,-74.1126735896,-73.9425246333,-73.8217519998,-73.9414215295,-73.9650810003,-73.988721,-73.9437762198,-73.9812989997,-73.8740334898,-73.9421610003,-73.9919439997,-73.9831614205,-73.9816400003,-73.9470017398,-73.9860739998,-73.9639909997,-73.9428759995,-73.8378420458,-73.8849874295,-74.0015011405,-73.9893506197,-73.9742539496,-73.9823840006,-73.9927449999,-73.9659950002,-74.0049973006,-73.9619709998,-74.0090999996,-73.9416169996,-73.9351660002,-73.7343110002,-73.9885842996,-73.9136680302,-73.868974527,-73.8431100002,-73.8930594396,-73.9751864195,-73.7537966712,-73.9982041003,-74.0017175673,-73.9735677168,-73.9939149995,-73.9368160005,-73.9507163101,-73.9119525439,-73.9417219999,-73.9631153897,-73.9889399995,-74.0042110753,-73.9911979994,-74.0806770005,-73.975363394,-73.8964350002,-73.9129580004,-73.9861557696,-73.944584432,-73.9819042697,-73.9408590005,-73.8354962198,-73.9543637097,-74.0133420002,-73.9449661597,-73.9886919994,-73.9517076806,-73.948843,-73.9189498694,-73.96855237,-73.9506270004,-73.9901509997,-73.9422599997,-73.9658396999,-73.9230749999,-73.9287188126,-73.9585350001,-73.9973329996,-73.8785419996,-73.9798132001,-73.89835842,-74.004303,-74.0083008003,-73.9399199995,-73.9827228297,-74.0129239997,-73.9252000003,-73.9155699997,-73.9393569996,-73.9787810002,-73.9534389996,-74.0816830001,-73.9819357697,-73.8860705368,-73.9859280201,-74.1081850003,-73.9682764104,-73.9770050006,-73.8887139998,-73.9522789999,-73.9442238947,-73.9106901254,-73.9933569112,-73.988114,-73.9773059999,-73.9843419996,-73.8110030005,-73.9507169999,-73.9954750904,-73.7889600002,-74.0148999999,-73.7695589996,-74.0826213606,-73.96390551,-73.8501814579,-73.8788550004,-73.9881357799,-74.0139998997,-73.9912456206,-73.9796929999,-73.9682322398,-73.9945262011,-73.9005118697,-73.9497239997,-73.9728679996,-73.94624056,-73.9493459995,-73.9688490003,-73.9423965402,-73.9685338097,-73.9866343903,-74.0195700005,-73.9744719998,-73.9989929999,-73.9831552895,-73.8985019994,-73.9896980003,-73.9896349995,-73.9638179695,-73.9397140004,-73.9505289535,-73.9842294506,-73.9753407498,-73.7990175101,-73.9619456901,-73.9678290802,-73.9799960002,-73.9890077838,-73.9962039999,-74.1026880006,-73.9870394796,-74.1311046151,-74.1133829994,-73.9581310004,-73.9910694205,-73.9310071503,-73.8362619997,-74.0078616724,-73.8913980006,-73.9509196198,-73.9462259305,-73.9962956503,-73.9431859998,-73.91700042,-73.9866059998,-73.9804763999,-73.97905068,-73.9449089999,-73.998476,-74.1069168496,-73.9791889998,-73.8316089898,-74.0055440003,-73.9164668698,-73.9510261478,-73.7946780399,-73.9224780003,-73.9396184214,-73.939112,-73.9820385505,-73.9488689103,-73.9700510404,-74.1072130004,-73.98029,-73.9857469998,-73.9648388698,-73.8540349997,-73.9613808596,-73.9052223115,-73.9464835204,-73.9627406698,-73.9779820001,-73.91616313,-73.9830479999,-73.9891830001,-73.9748181995,-73.9663882998,-73.9702839002,-73.8071899999,-74.0018570427,-73.9869351504,-73.9505360001,-73.9182580897,-73.981404,-73.950349,-74.0147000004,-73.9803709999,-73.9659025004,-74.0218499996,-74.0020679997,-73.988433,-73.9646455504,-73.9546093603,-73.98319263,-73.8793601805,-73.9751837098,-74.0121002005,-73.885335,-73.9824235595,-73.8210710004,-74.115318,-73.95586492,-73.9236280006,-73.9212759595,-73.899037,-73.9988000002,-73.8979100001,-73.8090500002,-73.7846799996,-73.9651209997,-73.8859090476,-73.9485661367,-73.9886849997,-73.9770118004,-73.9128382274,-73.9346299998,-73.9526776598,-73.9277719998,-73.9495109998,-74.1119581475,-74.0157800002,-73.9833700403,-73.9516556999,-73.9486888994,-73.9247370003,-73.9718562601,-73.9788209601,-73.9499159996,-74.0102005003,-73.9667075405,-73.9813105102],\"name\":\"\",\"radius\":6,\"subplot\":\"mapbox\",\"type\":\"densitymapbox\"}],                        {\"template\":{\"data\":{\"histogram2dcontour\":[{\"type\":\"histogram2dcontour\",\"colorbar\":{\"outlinewidth\":0,\"ticks\":\"\"},\"colorscale\":[[0.0,\"#0d0887\"],[0.1111111111111111,\"#46039f\"],[0.2222222222222222,\"#7201a8\"],[0.3333333333333333,\"#9c179e\"],[0.4444444444444444,\"#bd3786\"],[0.5555555555555556,\"#d8576b\"],[0.6666666666666666,\"#ed7953\"],[0.7777777777777778,\"#fb9f3a\"],[0.8888888888888888,\"#fdca26\"],[1.0,\"#f0f921\"]]}],\"choropleth\":[{\"type\":\"choropleth\",\"colorbar\":{\"outlinewidth\":0,\"ticks\":\"\"}}],\"histogram2d\":[{\"type\":\"histogram2d\",\"colorbar\":{\"outlinewidth\":0,\"ticks\":\"\"},\"colorscale\":[[0.0,\"#0d0887\"],[0.1111111111111111,\"#46039f\"],[0.2222222222222222,\"#7201a8\"],[0.3333333333333333,\"#9c179e\"],[0.4444444444444444,\"#bd3786\"],[0.5555555555555556,\"#d8576b\"],[0.6666666666666666,\"#ed7953\"],[0.7777777777777778,\"#fb9f3a\"],[0.8888888888888888,\"#fdca26\"],[1.0,\"#f0f921\"]]}],\"heatmap\":[{\"type\":\"heatmap\",\"colorbar\":{\"outlinewidth\":0,\"ticks\":\"\"},\"colorscale\":[[0.0,\"#0d0887\"],[0.1111111111111111,\"#46039f\"],[0.2222222222222222,\"#7201a8\"],[0.3333333333333333,\"#9c179e\"],[0.4444444444444444,\"#bd3786\"],[0.5555555555555556,\"#d8576b\"],[0.6666666666666666,\"#ed7953\"],[0.7777777777777778,\"#fb9f3a\"],[0.8888888888888888,\"#fdca26\"],[1.0,\"#f0f921\"]]}],\"heatmapgl\":[{\"type\":\"heatmapgl\",\"colorbar\":{\"outlinewidth\":0,\"ticks\":\"\"},\"colorscale\":[[0.0,\"#0d0887\"],[0.1111111111111111,\"#46039f\"],[0.2222222222222222,\"#7201a8\"],[0.3333333333333333,\"#9c179e\"],[0.4444444444444444,\"#bd3786\"],[0.5555555555555556,\"#d8576b\"],[0.6666666666666666,\"#ed7953\"],[0.7777777777777778,\"#fb9f3a\"],[0.8888888888888888,\"#fdca26\"],[1.0,\"#f0f921\"]]}],\"contourcarpet\":[{\"type\":\"contourcarpet\",\"colorbar\":{\"outlinewidth\":0,\"ticks\":\"\"}}],\"contour\":[{\"type\":\"contour\",\"colorbar\":{\"outlinewidth\":0,\"ticks\":\"\"},\"colorscale\":[[0.0,\"#0d0887\"],[0.1111111111111111,\"#46039f\"],[0.2222222222222222,\"#7201a8\"],[0.3333333333333333,\"#9c179e\"],[0.4444444444444444,\"#bd3786\"],[0.5555555555555556,\"#d8576b\"],[0.6666666666666666,\"#ed7953\"],[0.7777777777777778,\"#fb9f3a\"],[0.8888888888888888,\"#fdca26\"],[1.0,\"#f0f921\"]]}],\"surface\":[{\"type\":\"surface\",\"colorbar\":{\"outlinewidth\":0,\"ticks\":\"\"},\"colorscale\":[[0.0,\"#0d0887\"],[0.1111111111111111,\"#46039f\"],[0.2222222222222222,\"#7201a8\"],[0.3333333333333333,\"#9c179e\"],[0.4444444444444444,\"#bd3786\"],[0.5555555555555556,\"#d8576b\"],[0.6666666666666666,\"#ed7953\"],[0.7777777777777778,\"#fb9f3a\"],[0.8888888888888888,\"#fdca26\"],[1.0,\"#f0f921\"]]}],\"mesh3d\":[{\"type\":\"mesh3d\",\"colorbar\":{\"outlinewidth\":0,\"ticks\":\"\"}}],\"scatter\":[{\"fillpattern\":{\"fillmode\":\"overlay\",\"size\":10,\"solidity\":0.2},\"type\":\"scatter\"}],\"parcoords\":[{\"type\":\"parcoords\",\"line\":{\"colorbar\":{\"outlinewidth\":0,\"ticks\":\"\"}}}],\"scatterpolargl\":[{\"type\":\"scatterpolargl\",\"marker\":{\"colorbar\":{\"outlinewidth\":0,\"ticks\":\"\"}}}],\"bar\":[{\"error_x\":{\"color\":\"#2a3f5f\"},\"error_y\":{\"color\":\"#2a3f5f\"},\"marker\":{\"line\":{\"color\":\"#E5ECF6\",\"width\":0.5},\"pattern\":{\"fillmode\":\"overlay\",\"size\":10,\"solidity\":0.2}},\"type\":\"bar\"}],\"scattergeo\":[{\"type\":\"scattergeo\",\"marker\":{\"colorbar\":{\"outlinewidth\":0,\"ticks\":\"\"}}}],\"scatterpolar\":[{\"type\":\"scatterpolar\",\"marker\":{\"colorbar\":{\"outlinewidth\":0,\"ticks\":\"\"}}}],\"histogram\":[{\"marker\":{\"pattern\":{\"fillmode\":\"overlay\",\"size\":10,\"solidity\":0.2}},\"type\":\"histogram\"}],\"scattergl\":[{\"type\":\"scattergl\",\"marker\":{\"colorbar\":{\"outlinewidth\":0,\"ticks\":\"\"}}}],\"scatter3d\":[{\"type\":\"scatter3d\",\"line\":{\"colorbar\":{\"outlinewidth\":0,\"ticks\":\"\"}},\"marker\":{\"colorbar\":{\"outlinewidth\":0,\"ticks\":\"\"}}}],\"scattermapbox\":[{\"type\":\"scattermapbox\",\"marker\":{\"colorbar\":{\"outlinewidth\":0,\"ticks\":\"\"}}}],\"scatterternary\":[{\"type\":\"scatterternary\",\"marker\":{\"colorbar\":{\"outlinewidth\":0,\"ticks\":\"\"}}}],\"scattercarpet\":[{\"type\":\"scattercarpet\",\"marker\":{\"colorbar\":{\"outlinewidth\":0,\"ticks\":\"\"}}}],\"carpet\":[{\"aaxis\":{\"endlinecolor\":\"#2a3f5f\",\"gridcolor\":\"white\",\"linecolor\":\"white\",\"minorgridcolor\":\"white\",\"startlinecolor\":\"#2a3f5f\"},\"baxis\":{\"endlinecolor\":\"#2a3f5f\",\"gridcolor\":\"white\",\"linecolor\":\"white\",\"minorgridcolor\":\"white\",\"startlinecolor\":\"#2a3f5f\"},\"type\":\"carpet\"}],\"table\":[{\"cells\":{\"fill\":{\"color\":\"#EBF0F8\"},\"line\":{\"color\":\"white\"}},\"header\":{\"fill\":{\"color\":\"#C8D4E3\"},\"line\":{\"color\":\"white\"}},\"type\":\"table\"}],\"barpolar\":[{\"marker\":{\"line\":{\"color\":\"#E5ECF6\",\"width\":0.5},\"pattern\":{\"fillmode\":\"overlay\",\"size\":10,\"solidity\":0.2}},\"type\":\"barpolar\"}],\"pie\":[{\"automargin\":true,\"type\":\"pie\"}]},\"layout\":{\"autotypenumbers\":\"strict\",\"colorway\":[\"#636efa\",\"#EF553B\",\"#00cc96\",\"#ab63fa\",\"#FFA15A\",\"#19d3f3\",\"#FF6692\",\"#B6E880\",\"#FF97FF\",\"#FECB52\"],\"font\":{\"color\":\"#2a3f5f\"},\"hovermode\":\"closest\",\"hoverlabel\":{\"align\":\"left\"},\"paper_bgcolor\":\"white\",\"plot_bgcolor\":\"#E5ECF6\",\"polar\":{\"bgcolor\":\"#E5ECF6\",\"angularaxis\":{\"gridcolor\":\"white\",\"linecolor\":\"white\",\"ticks\":\"\"},\"radialaxis\":{\"gridcolor\":\"white\",\"linecolor\":\"white\",\"ticks\":\"\"}},\"ternary\":{\"bgcolor\":\"#E5ECF6\",\"aaxis\":{\"gridcolor\":\"white\",\"linecolor\":\"white\",\"ticks\":\"\"},\"baxis\":{\"gridcolor\":\"white\",\"linecolor\":\"white\",\"ticks\":\"\"},\"caxis\":{\"gridcolor\":\"white\",\"linecolor\":\"white\",\"ticks\":\"\"}},\"coloraxis\":{\"colorbar\":{\"outlinewidth\":0,\"ticks\":\"\"}},\"colorscale\":{\"sequential\":[[0.0,\"#0d0887\"],[0.1111111111111111,\"#46039f\"],[0.2222222222222222,\"#7201a8\"],[0.3333333333333333,\"#9c179e\"],[0.4444444444444444,\"#bd3786\"],[0.5555555555555556,\"#d8576b\"],[0.6666666666666666,\"#ed7953\"],[0.7777777777777778,\"#fb9f3a\"],[0.8888888888888888,\"#fdca26\"],[1.0,\"#f0f921\"]],\"sequentialminus\":[[0.0,\"#0d0887\"],[0.1111111111111111,\"#46039f\"],[0.2222222222222222,\"#7201a8\"],[0.3333333333333333,\"#9c179e\"],[0.4444444444444444,\"#bd3786\"],[0.5555555555555556,\"#d8576b\"],[0.6666666666666666,\"#ed7953\"],[0.7777777777777778,\"#fb9f3a\"],[0.8888888888888888,\"#fdca26\"],[1.0,\"#f0f921\"]],\"diverging\":[[0,\"#8e0152\"],[0.1,\"#c51b7d\"],[0.2,\"#de77ae\"],[0.3,\"#f1b6da\"],[0.4,\"#fde0ef\"],[0.5,\"#f7f7f7\"],[0.6,\"#e6f5d0\"],[0.7,\"#b8e186\"],[0.8,\"#7fbc41\"],[0.9,\"#4d9221\"],[1,\"#276419\"]]},\"xaxis\":{\"gridcolor\":\"white\",\"linecolor\":\"white\",\"ticks\":\"\",\"title\":{\"standoff\":15},\"zerolinecolor\":\"white\",\"automargin\":true,\"zerolinewidth\":2},\"yaxis\":{\"gridcolor\":\"white\",\"linecolor\":\"white\",\"ticks\":\"\",\"title\":{\"standoff\":15},\"zerolinecolor\":\"white\",\"automargin\":true,\"zerolinewidth\":2},\"scene\":{\"xaxis\":{\"backgroundcolor\":\"#E5ECF6\",\"gridcolor\":\"white\",\"linecolor\":\"white\",\"showbackground\":true,\"ticks\":\"\",\"zerolinecolor\":\"white\",\"gridwidth\":2},\"yaxis\":{\"backgroundcolor\":\"#E5ECF6\",\"gridcolor\":\"white\",\"linecolor\":\"white\",\"showbackground\":true,\"ticks\":\"\",\"zerolinecolor\":\"white\",\"gridwidth\":2},\"zaxis\":{\"backgroundcolor\":\"#E5ECF6\",\"gridcolor\":\"white\",\"linecolor\":\"white\",\"showbackground\":true,\"ticks\":\"\",\"zerolinecolor\":\"white\",\"gridwidth\":2}},\"shapedefaults\":{\"line\":{\"color\":\"#2a3f5f\"}},\"annotationdefaults\":{\"arrowcolor\":\"#2a3f5f\",\"arrowhead\":0,\"arrowwidth\":1},\"geo\":{\"bgcolor\":\"white\",\"landcolor\":\"#E5ECF6\",\"subunitcolor\":\"white\",\"showland\":true,\"showlakes\":true,\"lakecolor\":\"white\"},\"title\":{\"x\":0.05},\"mapbox\":{\"style\":\"light\"}}},\"mapbox\":{\"domain\":{\"x\":[0.0,1.0],\"y\":[0.0,1.0]},\"center\":{\"lat\":40.742629591081204,\"lon\":-73.95338289264531},\"accesstoken\":\"token\",\"zoom\":10,\"style\":\"carto-positron\"},\"coloraxis\":{\"colorscale\":[[0.0,\"#0d0887\"],[0.1111111111111111,\"#46039f\"],[0.2222222222222222,\"#7201a8\"],[0.3333333333333333,\"#9c179e\"],[0.4444444444444444,\"#bd3786\"],[0.5555555555555556,\"#d8576b\"],[0.6666666666666666,\"#ed7953\"],[0.7777777777777778,\"#fb9f3a\"],[0.8888888888888888,\"#fdca26\"],[1.0,\"#f0f921\"]]},\"legend\":{\"tracegroupgap\":0},\"title\":{\"text\":\"Distribution of WiFi Hotspots in NYC\"},\"height\":800,\"width\":1200},                        {\"responsive\": true}                    ).then(function(){\n",
              "                            \n",
              "var gd = document.getElementById('9705fbab-893c-4e10-876e-9c2249f09a80');\n",
              "var x = new MutationObserver(function (mutations, observer) {{\n",
              "        var display = window.getComputedStyle(gd).display;\n",
              "        if (!display || display === 'none') {{\n",
              "            console.log([gd, 'removed!']);\n",
              "            Plotly.purge(gd);\n",
              "            observer.disconnect();\n",
              "        }}\n",
              "}});\n",
              "\n",
              "// Listen for the removal of the full notebook cells\n",
              "var notebookContainer = gd.closest('#notebook-container');\n",
              "if (notebookContainer) {{\n",
              "    x.observe(notebookContainer, {childList: true});\n",
              "}}\n",
              "\n",
              "// Listen for the clearing of the current output cell\n",
              "var outputEl = gd.closest('.output');\n",
              "if (outputEl) {{\n",
              "    x.observe(outputEl, {childList: true});\n",
              "}}\n",
              "\n",
              "                        })                };                            </script>        </div>\n",
              "</body>\n",
              "</html>"
            ]
          },
          "metadata": {}
        }
      ],
      "source": [
        "# Define the URL\n",
        "url = \"https://data.cityofnewyork.us/resource/yjub-udmw.json\"\n",
        "\n",
        "# Send a GET request\n",
        "response = requests.get(url)\n",
        "\n",
        "# Load the response into a JSON\n",
        "data = response.json()\n",
        "\n",
        "# Convert the JSON data into a DataFrame\n",
        "df = pd.DataFrame(data)\n",
        "\n",
        "# Convert lat and lon columns to float\n",
        "df['latitude'] = df['latitude'].astype(float)\n",
        "df['longitude'] = df['longitude'].astype(float)\n",
        "\n",
        "# Map the borough codes to borough names\n",
        "borough_dict = {'1': 'Manhattan', '2': 'Bronx', '3': 'Brooklyn', '4': 'Queens', '5': 'Staten Island'}\n",
        "df['borough'] = df['borough'].map(borough_dict)\n",
        "\n",
        "# Replace the 'token' with your own Mapbox access token\n",
        "px.set_mapbox_access_token('token')\n",
        "\n",
        "fig = px.density_mapbox(\n",
        "    df,\n",
        "    lat='latitude',\n",
        "    lon='longitude',\n",
        "    zoom=10,\n",
        "    mapbox_style=\"carto-positron\",\n",
        "    title=\"Distribution of WiFi Hotspots in NYC\",\n",
        "    radius=6\n",
        ")\n",
        "\n",
        "fig.update_layout(\n",
        "    height=800,\n",
        "    width=1200\n",
        ")\n",
        "\n",
        "fig.show()"
      ]
    },
    {
      "cell_type": "markdown",
      "metadata": {
        "id": "lfeN9bXQ-Oc1"
      },
      "source": [
        "## Squirrel Census"
      ]
    },
    {
      "cell_type": "code",
      "execution_count": 27,
      "metadata": {
        "colab": {
          "base_uri": "https://localhost:8080/",
          "height": 717
        },
        "id": "94Zj0Lti6_Vd",
        "outputId": "bce6e8cf-de8c-4c37-ffc5-006b6aed97dc"
      },
      "outputs": [
        {
          "output_type": "display_data",
          "data": {
            "text/html": [
              "<html>\n",
              "<head><meta charset=\"utf-8\" /></head>\n",
              "<body>\n",
              "    <div>            <script src=\"https://cdnjs.cloudflare.com/ajax/libs/mathjax/2.7.5/MathJax.js?config=TeX-AMS-MML_SVG\"></script><script type=\"text/javascript\">if (window.MathJax && window.MathJax.Hub && window.MathJax.Hub.Config) {window.MathJax.Hub.Config({SVG: {font: \"STIX-Web\"}});}</script>                <script type=\"text/javascript\">window.PlotlyConfig = {MathJaxConfig: 'local'};</script>\n",
              "        <script charset=\"utf-8\" src=\"https://cdn.plot.ly/plotly-2.24.1.min.js\"></script>                <div id=\"fd7dfaac-70d7-4142-87e5-d2a694b548ed\" class=\"plotly-graph-div\" style=\"height:700px; width:1000px;\"></div>            <script type=\"text/javascript\">                                    window.PLOTLYENV=window.PLOTLYENV || {};                                    if (document.getElementById(\"fd7dfaac-70d7-4142-87e5-d2a694b548ed\")) {                    Plotly.newPlot(                        \"fd7dfaac-70d7-4142-87e5-d2a694b548ed\",                        [{\"coloraxis\":\"coloraxis\",\"hovertemplate\":\"noisy=%{z}\\u003cbr\\u003eY=%{lat}\\u003cbr\\u003eX=%{lon}\\u003cextra\\u003e\\u003c\\u002fextra\\u003e\",\"lat\":[40.7766530579293,40.7992461674802,40.7950689723135,40.7772624641112,40.7724665036447,40.7686351097159,40.7963852299012,40.7990973804149,40.797533370163,40.7932564163328,40.7724769242403,40.7960605028848,40.7762987836055,40.7775169562765,40.7836626717225,40.7825926896917,40.7836023897982,40.7991786736124,40.7913335515534,40.7722051011357,40.789911786416,40.7727508149058,40.769923269444,40.7933003544685,40.7939653733898,40.7683813358343,40.7820936628202,40.7976985385835,40.776034583573,40.7782055688113,40.773709213914,40.7791835122147,40.7922465876813,40.7914073632782,40.7937382705056,40.7805366922231,40.773784724458,40.7920773376757,40.7804506112843,40.7899242643847,40.7921084224711,40.7889383725489,40.7737246779587,40.7839216739357,40.7925162926273,40.783337354891,40.7833747810387,40.7821352080233,40.7763579140639,40.7944340477396,40.7781433076692,40.7828950272904,40.7854742185504,40.7760643720793,40.7667932997,40.7825358361204,40.7727841119424,40.7806120529369,40.77608025411,40.7991807924337,40.7963721679474,40.7779016280345,40.7686815615335,40.7729256063889,40.7683772453336,40.7890778665307,40.7783674409485,40.7944237164092,40.7943610366853,40.7961896477077,40.7792737287734,40.7961707624534,40.7803961531517,40.7669673778105,40.7949440648632,40.7969457685677,40.7765625256946,40.7764726688908,40.7763606494306,40.7756906748026,40.7945503341011,40.7832801145306,40.776391443152,40.7992037821497,40.7776249963967,40.7707450042769,40.7839956493194,40.7649106677138,40.7715081817329,40.7687241866704,40.7841298584027,40.7807054868066,40.7906612313673,40.7696046074378,40.7988964092722,40.7987736900857,40.7830678709405,40.7934877861075,40.779321901098,40.7889527629826,40.7800373465838,40.7950071252836,40.7694698040083,40.7707256124181,40.7814921913101,40.7913690265064,40.7980605334961,40.7915589343685,40.7913938722521,40.7988549523022,40.7917800352042,40.797312050952,40.7962656030995,40.7963146584827,40.7699558513225,40.7960096659564,40.7783693690954,40.7757055884538,40.7944678447843,40.7955846466241,40.7959403112722,40.7962862794303,40.7949288561893,40.7943473161329,40.7960853285059,40.7780727569417,40.7938328798752,40.7893671772846,40.7907417648701,40.7918405182594,40.7738993942891,40.7943889087123,40.7750640173134,40.7677319725044,40.7944223235385,40.7826561917755,40.7810022923615,40.7847605974975,40.7843300758044],\"lon\":[-73.9701824825872,-73.9565759733611,-73.9544007658685,-73.9671147090087,-73.9782417115139,-73.9763430829342,-73.9588468413094,-73.9570528770427,-73.9593126695714,-73.9534333425633,-73.978436117932,-73.9579218587172,-73.9720907384613,-73.9689700100267,-73.968045072743,-73.965862100991,-73.9669366401071,-73.9570131890379,-73.9558474701153,-73.9701335162984,-73.959514034869,-73.9707215394887,-73.9690968160819,-73.9533476020736,-73.9586098170241,-73.9768357173861,-73.9635290751183,-73.9522291603405,-73.9721592378418,-73.9698762023146,-73.976730206737,-73.9695745672033,-73.9620597449066,-73.9583477850634,-73.9565035705619,-73.9655734633649,-73.976521916284,-73.9597782762029,-73.9648626810032,-73.9595757792683,-73.9534509627885,-73.9629383420274,-73.9738611257716,-73.9666195118963,-73.9547959269955,-73.9672070423666,-73.9670850805619,-73.9635317822977,-73.9677409841969,-73.9541837143178,-73.9698839750249,-73.9638397790384,-73.9583934264026,-73.9667474482967,-73.9743184653765,-73.9677096985223,-73.9706929270645,-73.9655277320465,-73.9748709206354,-73.9565260889843,-73.9585133340331,-73.9683345414813,-73.9763236949008,-73.9704024529864,-73.980919134781,-73.9662063642345,-73.9711582199102,-73.9542684235907,-73.9542770888881,-73.9586077039567,-73.9655233748105,-73.9587913289229,-73.9647605121306,-73.9766779585686,-73.9561124892063,-73.9555856074105,-73.9686778167484,-73.9676692772518,-73.9705254801,-73.9693894305786,-73.9548006161673,-73.9597462612063,-73.9676270670996,-73.9561840935803,-73.97157754108,-73.9693209851947,-73.9666945123922,-73.9736873018042,-73.9759428006237,-73.9773696455031,-73.9668909481942,-73.9685598106128,-73.9596271142953,-73.978844141973,-73.9581366214863,-73.956806913988,-73.9693504617353,-73.9533085932603,-73.9667911565238,-73.9606559309874,-73.9707737073771,-73.9591880400132,-73.9770920860805,-73.9755259087781,-73.9622752768962,-73.9589600626433,-73.9538377039825,-73.9598535425706,-73.9583201789615,-73.955352152771,-73.9594446018346,-73.9565824187667,-73.9587678566254,-73.9590632051055,-73.9789251806378,-73.9567801028221,-73.9674931070324,-73.9693338657183,-73.9615643742864,-73.9597048490102,-73.9581007437094,-73.9582150734453,-73.9561498646036,-73.9601988871514,-73.9577919365342,-73.9682760864462,-73.9600738985438,-73.9611434082667,-73.9615429203441,-73.9595886063173,-73.9690082314914,-73.9543373703455,-73.9712187890707,-73.9747311312394,-73.9615926031253,-73.9677903197449,-73.962524814515,-73.9678831312936,-73.9662895079734],\"name\":\"\",\"radius\":50,\"subplot\":\"mapbox\",\"z\":[1,1,1,1,1,1,1,1,1,1,1,1,1,1,1,1,1,1,1,1,1,1,1,1,1,1,1,1,1,1,1,1,1,1,1,1,1,1,1,1,1,1,1,1,1,1,1,1,1,1,1,1,1,1,1,1,1,1,1,1,1,1,1,1,1,1,1,1,1,1,1,1,1,1,1,1,1,1,1,1,1,1,1,1,1,1,1,1,1,1,1,1,1,1,1,1,1,1,1,1,1,1,1,1,1,1,1,1,1,1,1,1,1,1,1,1,1,1,1,1,1,1,1,1,1,1,1,1,1,1,1,1,1,1,1,1,1,1,1],\"type\":\"densitymapbox\"}],                        {\"template\":{\"data\":{\"histogram2dcontour\":[{\"type\":\"histogram2dcontour\",\"colorbar\":{\"outlinewidth\":0,\"ticks\":\"\"},\"colorscale\":[[0.0,\"#0d0887\"],[0.1111111111111111,\"#46039f\"],[0.2222222222222222,\"#7201a8\"],[0.3333333333333333,\"#9c179e\"],[0.4444444444444444,\"#bd3786\"],[0.5555555555555556,\"#d8576b\"],[0.6666666666666666,\"#ed7953\"],[0.7777777777777778,\"#fb9f3a\"],[0.8888888888888888,\"#fdca26\"],[1.0,\"#f0f921\"]]}],\"choropleth\":[{\"type\":\"choropleth\",\"colorbar\":{\"outlinewidth\":0,\"ticks\":\"\"}}],\"histogram2d\":[{\"type\":\"histogram2d\",\"colorbar\":{\"outlinewidth\":0,\"ticks\":\"\"},\"colorscale\":[[0.0,\"#0d0887\"],[0.1111111111111111,\"#46039f\"],[0.2222222222222222,\"#7201a8\"],[0.3333333333333333,\"#9c179e\"],[0.4444444444444444,\"#bd3786\"],[0.5555555555555556,\"#d8576b\"],[0.6666666666666666,\"#ed7953\"],[0.7777777777777778,\"#fb9f3a\"],[0.8888888888888888,\"#fdca26\"],[1.0,\"#f0f921\"]]}],\"heatmap\":[{\"type\":\"heatmap\",\"colorbar\":{\"outlinewidth\":0,\"ticks\":\"\"},\"colorscale\":[[0.0,\"#0d0887\"],[0.1111111111111111,\"#46039f\"],[0.2222222222222222,\"#7201a8\"],[0.3333333333333333,\"#9c179e\"],[0.4444444444444444,\"#bd3786\"],[0.5555555555555556,\"#d8576b\"],[0.6666666666666666,\"#ed7953\"],[0.7777777777777778,\"#fb9f3a\"],[0.8888888888888888,\"#fdca26\"],[1.0,\"#f0f921\"]]}],\"heatmapgl\":[{\"type\":\"heatmapgl\",\"colorbar\":{\"outlinewidth\":0,\"ticks\":\"\"},\"colorscale\":[[0.0,\"#0d0887\"],[0.1111111111111111,\"#46039f\"],[0.2222222222222222,\"#7201a8\"],[0.3333333333333333,\"#9c179e\"],[0.4444444444444444,\"#bd3786\"],[0.5555555555555556,\"#d8576b\"],[0.6666666666666666,\"#ed7953\"],[0.7777777777777778,\"#fb9f3a\"],[0.8888888888888888,\"#fdca26\"],[1.0,\"#f0f921\"]]}],\"contourcarpet\":[{\"type\":\"contourcarpet\",\"colorbar\":{\"outlinewidth\":0,\"ticks\":\"\"}}],\"contour\":[{\"type\":\"contour\",\"colorbar\":{\"outlinewidth\":0,\"ticks\":\"\"},\"colorscale\":[[0.0,\"#0d0887\"],[0.1111111111111111,\"#46039f\"],[0.2222222222222222,\"#7201a8\"],[0.3333333333333333,\"#9c179e\"],[0.4444444444444444,\"#bd3786\"],[0.5555555555555556,\"#d8576b\"],[0.6666666666666666,\"#ed7953\"],[0.7777777777777778,\"#fb9f3a\"],[0.8888888888888888,\"#fdca26\"],[1.0,\"#f0f921\"]]}],\"surface\":[{\"type\":\"surface\",\"colorbar\":{\"outlinewidth\":0,\"ticks\":\"\"},\"colorscale\":[[0.0,\"#0d0887\"],[0.1111111111111111,\"#46039f\"],[0.2222222222222222,\"#7201a8\"],[0.3333333333333333,\"#9c179e\"],[0.4444444444444444,\"#bd3786\"],[0.5555555555555556,\"#d8576b\"],[0.6666666666666666,\"#ed7953\"],[0.7777777777777778,\"#fb9f3a\"],[0.8888888888888888,\"#fdca26\"],[1.0,\"#f0f921\"]]}],\"mesh3d\":[{\"type\":\"mesh3d\",\"colorbar\":{\"outlinewidth\":0,\"ticks\":\"\"}}],\"scatter\":[{\"fillpattern\":{\"fillmode\":\"overlay\",\"size\":10,\"solidity\":0.2},\"type\":\"scatter\"}],\"parcoords\":[{\"type\":\"parcoords\",\"line\":{\"colorbar\":{\"outlinewidth\":0,\"ticks\":\"\"}}}],\"scatterpolargl\":[{\"type\":\"scatterpolargl\",\"marker\":{\"colorbar\":{\"outlinewidth\":0,\"ticks\":\"\"}}}],\"bar\":[{\"error_x\":{\"color\":\"#2a3f5f\"},\"error_y\":{\"color\":\"#2a3f5f\"},\"marker\":{\"line\":{\"color\":\"#E5ECF6\",\"width\":0.5},\"pattern\":{\"fillmode\":\"overlay\",\"size\":10,\"solidity\":0.2}},\"type\":\"bar\"}],\"scattergeo\":[{\"type\":\"scattergeo\",\"marker\":{\"colorbar\":{\"outlinewidth\":0,\"ticks\":\"\"}}}],\"scatterpolar\":[{\"type\":\"scatterpolar\",\"marker\":{\"colorbar\":{\"outlinewidth\":0,\"ticks\":\"\"}}}],\"histogram\":[{\"marker\":{\"pattern\":{\"fillmode\":\"overlay\",\"size\":10,\"solidity\":0.2}},\"type\":\"histogram\"}],\"scattergl\":[{\"type\":\"scattergl\",\"marker\":{\"colorbar\":{\"outlinewidth\":0,\"ticks\":\"\"}}}],\"scatter3d\":[{\"type\":\"scatter3d\",\"line\":{\"colorbar\":{\"outlinewidth\":0,\"ticks\":\"\"}},\"marker\":{\"colorbar\":{\"outlinewidth\":0,\"ticks\":\"\"}}}],\"scattermapbox\":[{\"type\":\"scattermapbox\",\"marker\":{\"colorbar\":{\"outlinewidth\":0,\"ticks\":\"\"}}}],\"scatterternary\":[{\"type\":\"scatterternary\",\"marker\":{\"colorbar\":{\"outlinewidth\":0,\"ticks\":\"\"}}}],\"scattercarpet\":[{\"type\":\"scattercarpet\",\"marker\":{\"colorbar\":{\"outlinewidth\":0,\"ticks\":\"\"}}}],\"carpet\":[{\"aaxis\":{\"endlinecolor\":\"#2a3f5f\",\"gridcolor\":\"white\",\"linecolor\":\"white\",\"minorgridcolor\":\"white\",\"startlinecolor\":\"#2a3f5f\"},\"baxis\":{\"endlinecolor\":\"#2a3f5f\",\"gridcolor\":\"white\",\"linecolor\":\"white\",\"minorgridcolor\":\"white\",\"startlinecolor\":\"#2a3f5f\"},\"type\":\"carpet\"}],\"table\":[{\"cells\":{\"fill\":{\"color\":\"#EBF0F8\"},\"line\":{\"color\":\"white\"}},\"header\":{\"fill\":{\"color\":\"#C8D4E3\"},\"line\":{\"color\":\"white\"}},\"type\":\"table\"}],\"barpolar\":[{\"marker\":{\"line\":{\"color\":\"#E5ECF6\",\"width\":0.5},\"pattern\":{\"fillmode\":\"overlay\",\"size\":10,\"solidity\":0.2}},\"type\":\"barpolar\"}],\"pie\":[{\"automargin\":true,\"type\":\"pie\"}]},\"layout\":{\"autotypenumbers\":\"strict\",\"colorway\":[\"#636efa\",\"#EF553B\",\"#00cc96\",\"#ab63fa\",\"#FFA15A\",\"#19d3f3\",\"#FF6692\",\"#B6E880\",\"#FF97FF\",\"#FECB52\"],\"font\":{\"color\":\"#2a3f5f\"},\"hovermode\":\"closest\",\"hoverlabel\":{\"align\":\"left\"},\"paper_bgcolor\":\"white\",\"plot_bgcolor\":\"#E5ECF6\",\"polar\":{\"bgcolor\":\"#E5ECF6\",\"angularaxis\":{\"gridcolor\":\"white\",\"linecolor\":\"white\",\"ticks\":\"\"},\"radialaxis\":{\"gridcolor\":\"white\",\"linecolor\":\"white\",\"ticks\":\"\"}},\"ternary\":{\"bgcolor\":\"#E5ECF6\",\"aaxis\":{\"gridcolor\":\"white\",\"linecolor\":\"white\",\"ticks\":\"\"},\"baxis\":{\"gridcolor\":\"white\",\"linecolor\":\"white\",\"ticks\":\"\"},\"caxis\":{\"gridcolor\":\"white\",\"linecolor\":\"white\",\"ticks\":\"\"}},\"coloraxis\":{\"colorbar\":{\"outlinewidth\":0,\"ticks\":\"\"}},\"colorscale\":{\"sequential\":[[0.0,\"#0d0887\"],[0.1111111111111111,\"#46039f\"],[0.2222222222222222,\"#7201a8\"],[0.3333333333333333,\"#9c179e\"],[0.4444444444444444,\"#bd3786\"],[0.5555555555555556,\"#d8576b\"],[0.6666666666666666,\"#ed7953\"],[0.7777777777777778,\"#fb9f3a\"],[0.8888888888888888,\"#fdca26\"],[1.0,\"#f0f921\"]],\"sequentialminus\":[[0.0,\"#0d0887\"],[0.1111111111111111,\"#46039f\"],[0.2222222222222222,\"#7201a8\"],[0.3333333333333333,\"#9c179e\"],[0.4444444444444444,\"#bd3786\"],[0.5555555555555556,\"#d8576b\"],[0.6666666666666666,\"#ed7953\"],[0.7777777777777778,\"#fb9f3a\"],[0.8888888888888888,\"#fdca26\"],[1.0,\"#f0f921\"]],\"diverging\":[[0,\"#8e0152\"],[0.1,\"#c51b7d\"],[0.2,\"#de77ae\"],[0.3,\"#f1b6da\"],[0.4,\"#fde0ef\"],[0.5,\"#f7f7f7\"],[0.6,\"#e6f5d0\"],[0.7,\"#b8e186\"],[0.8,\"#7fbc41\"],[0.9,\"#4d9221\"],[1,\"#276419\"]]},\"xaxis\":{\"gridcolor\":\"white\",\"linecolor\":\"white\",\"ticks\":\"\",\"title\":{\"standoff\":15},\"zerolinecolor\":\"white\",\"automargin\":true,\"zerolinewidth\":2},\"yaxis\":{\"gridcolor\":\"white\",\"linecolor\":\"white\",\"ticks\":\"\",\"title\":{\"standoff\":15},\"zerolinecolor\":\"white\",\"automargin\":true,\"zerolinewidth\":2},\"scene\":{\"xaxis\":{\"backgroundcolor\":\"#E5ECF6\",\"gridcolor\":\"white\",\"linecolor\":\"white\",\"showbackground\":true,\"ticks\":\"\",\"zerolinecolor\":\"white\",\"gridwidth\":2},\"yaxis\":{\"backgroundcolor\":\"#E5ECF6\",\"gridcolor\":\"white\",\"linecolor\":\"white\",\"showbackground\":true,\"ticks\":\"\",\"zerolinecolor\":\"white\",\"gridwidth\":2},\"zaxis\":{\"backgroundcolor\":\"#E5ECF6\",\"gridcolor\":\"white\",\"linecolor\":\"white\",\"showbackground\":true,\"ticks\":\"\",\"zerolinecolor\":\"white\",\"gridwidth\":2}},\"shapedefaults\":{\"line\":{\"color\":\"#2a3f5f\"}},\"annotationdefaults\":{\"arrowcolor\":\"#2a3f5f\",\"arrowhead\":0,\"arrowwidth\":1},\"geo\":{\"bgcolor\":\"white\",\"landcolor\":\"#E5ECF6\",\"subunitcolor\":\"white\",\"showland\":true,\"showlakes\":true,\"lakecolor\":\"white\"},\"title\":{\"x\":0.05},\"mapbox\":{\"style\":\"light\"}}},\"mapbox\":{\"domain\":{\"x\":[0.0,1.0],\"y\":[0.0,1.0]},\"center\":{\"lat\":40.783,\"lon\":-73.969},\"accesstoken\":\"token\",\"zoom\":13,\"style\":\"stamen-terrain\",\"bearing\":0},\"coloraxis\":{\"colorbar\":{\"title\":{\"text\":\"noisy\"}},\"colorscale\":[[0.0,\"white\"],[0.5,\"orange\"],[1.0,\"red\"]],\"cmin\":0,\"cmax\":5,\"showscale\":false},\"legend\":{\"tracegroupgap\":0},\"margin\":{\"t\":60},\"height\":700,\"width\":1000,\"title\":{\"text\":\"Density of Noisy Squirrel Observations\"},\"showlegend\":false},                        {\"responsive\": true}                    ).then(function(){\n",
              "                            \n",
              "var gd = document.getElementById('fd7dfaac-70d7-4142-87e5-d2a694b548ed');\n",
              "var x = new MutationObserver(function (mutations, observer) {{\n",
              "        var display = window.getComputedStyle(gd).display;\n",
              "        if (!display || display === 'none') {{\n",
              "            console.log([gd, 'removed!']);\n",
              "            Plotly.purge(gd);\n",
              "            observer.disconnect();\n",
              "        }}\n",
              "}});\n",
              "\n",
              "// Listen for the removal of the full notebook cells\n",
              "var notebookContainer = gd.closest('#notebook-container');\n",
              "if (notebookContainer) {{\n",
              "    x.observe(notebookContainer, {childList: true});\n",
              "}}\n",
              "\n",
              "// Listen for the clearing of the current output cell\n",
              "var outputEl = gd.closest('.output');\n",
              "if (outputEl) {{\n",
              "    x.observe(outputEl, {childList: true});\n",
              "}}\n",
              "\n",
              "                        })                };                            </script>        </div>\n",
              "</body>\n",
              "</html>"
            ]
          },
          "metadata": {}
        }
      ],
      "source": [
        "# Pull data\n",
        "data_url = 'https://data.cityofnewyork.us/api/views/vfnx-vebw/rows.csv?accessType=DOWNLOAD'\n",
        "squirrels = pd.read_csv(\n",
        "    data_url,\n",
        "    usecols=['X', 'Y', 'Kuks', 'Quaas', 'Moans']\n",
        ")\n",
        "\n",
        "# Create column denoting that the squirrel made any kind of noise\n",
        "squirrels['noisy'] = squirrels[['Kuks', 'Quaas', 'Moans']].any(axis=1)\n",
        "\n",
        "# Filter out the quiet squirrels\n",
        "noisy_squirrels = squirrels[squirrels['noisy']]\n",
        "\n",
        "# Convert noisy column to integer\n",
        "noisy_squirrels['noisy'] = noisy_squirrels['noisy'].astype(int)\n",
        "\n",
        "# Create the density heatmap\n",
        "fig = px.density_mapbox(\n",
        "    noisy_squirrels, lat='Y', lon='X', z='noisy', radius=50,\n",
        "    center=dict(lat=40.783, lon=-73.969),  # Center coordinates for Central Park\n",
        "    zoom=13,\n",
        "    mapbox_style=\"stamen-terrain\",\n",
        "    #mapbox_style=\"stamen-watercolor\",\n",
        "    color_continuous_scale=[\"white\", \"orange\", \"red\"],\n",
        "    range_color=[0, 5], # Adjusting the range for color scale\n",
        ")\n",
        "\n",
        "# Set the bearing to orient Central Park horizontally\n",
        "fig.update_layout(\n",
        "    mapbox_bearing=0,\n",
        "    height=700,\n",
        "    width=1000,\n",
        "    title='Density of Noisy Squirrel Observations',\n",
        "    showlegend=False,\n",
        "    coloraxis_showscale=False\n",
        ")\n",
        "\n",
        "fig.show()"
      ]
    }
  ],
  "metadata": {
    "colab": {
      "provenance": [],
      "authorship_tag": "ABX9TyOfPF9dMd3o191vvkbTzt8f"
    },
    "kernelspec": {
      "display_name": "Python 3",
      "name": "python3"
    },
    "language_info": {
      "name": "python"
    }
  },
  "nbformat": 4,
  "nbformat_minor": 0
}